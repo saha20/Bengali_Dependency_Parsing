{
  "nbformat": 4,
  "nbformat_minor": 0,
  "metadata": {
    "colab": {
      "name": "my_project_nlp_baseline+_v5.ipynb",
      "provenance": []
    },
    "kernelspec": {
      "name": "python3",
      "display_name": "Python 3"
    },
    "language_info": {
      "name": "python"
    },
    "widgets": {
      "application/vnd.jupyter.widget-state+json": {
        "a7391235f1e44959a6f402949602c33f": {
          "model_module": "@jupyter-widgets/controls",
          "model_name": "HBoxModel",
          "state": {
            "_view_name": "HBoxView",
            "_dom_classes": [],
            "_model_name": "HBoxModel",
            "_view_module": "@jupyter-widgets/controls",
            "_model_module_version": "1.5.0",
            "_view_count": null,
            "_view_module_version": "1.5.0",
            "box_style": "",
            "layout": "IPY_MODEL_8f05afd2c9bc49d5a17bb8664f925432",
            "_model_module": "@jupyter-widgets/controls",
            "children": [
              "IPY_MODEL_6fd71f5d29f947e2adc9c22411841497",
              "IPY_MODEL_a795d5fc945849bca9fa8d0b7fe9e8b5"
            ]
          }
        },
        "8f05afd2c9bc49d5a17bb8664f925432": {
          "model_module": "@jupyter-widgets/base",
          "model_name": "LayoutModel",
          "state": {
            "_view_name": "LayoutView",
            "grid_template_rows": null,
            "right": null,
            "justify_content": null,
            "_view_module": "@jupyter-widgets/base",
            "overflow": null,
            "_model_module_version": "1.2.0",
            "_view_count": null,
            "flex_flow": null,
            "width": null,
            "min_width": null,
            "border": null,
            "align_items": null,
            "bottom": null,
            "_model_module": "@jupyter-widgets/base",
            "top": null,
            "grid_column": null,
            "overflow_y": null,
            "overflow_x": null,
            "grid_auto_flow": null,
            "grid_area": null,
            "grid_template_columns": null,
            "flex": null,
            "_model_name": "LayoutModel",
            "justify_items": null,
            "grid_row": null,
            "max_height": null,
            "align_content": null,
            "visibility": null,
            "align_self": null,
            "height": null,
            "min_height": null,
            "padding": null,
            "grid_auto_rows": null,
            "grid_gap": null,
            "max_width": null,
            "order": null,
            "_view_module_version": "1.2.0",
            "grid_template_areas": null,
            "object_position": null,
            "object_fit": null,
            "grid_auto_columns": null,
            "margin": null,
            "display": null,
            "left": null
          }
        },
        "6fd71f5d29f947e2adc9c22411841497": {
          "model_module": "@jupyter-widgets/controls",
          "model_name": "FloatProgressModel",
          "state": {
            "_view_name": "ProgressView",
            "style": "IPY_MODEL_2e9c9b6ea2f04e018aea9adc5c244b35",
            "_dom_classes": [],
            "description": "100%",
            "_model_name": "FloatProgressModel",
            "bar_style": "success",
            "max": 87014,
            "_view_module": "@jupyter-widgets/controls",
            "_model_module_version": "1.5.0",
            "value": 87014,
            "_view_count": null,
            "_view_module_version": "1.5.0",
            "orientation": "horizontal",
            "min": 0,
            "description_tooltip": null,
            "_model_module": "@jupyter-widgets/controls",
            "layout": "IPY_MODEL_20f0064f6dc44d1081de46813500cc7c"
          }
        },
        "a795d5fc945849bca9fa8d0b7fe9e8b5": {
          "model_module": "@jupyter-widgets/controls",
          "model_name": "HTMLModel",
          "state": {
            "_view_name": "HTMLView",
            "style": "IPY_MODEL_ca13703655504a3e9002237e7c327633",
            "_dom_classes": [],
            "description": "",
            "_model_name": "HTMLModel",
            "placeholder": "​",
            "_view_module": "@jupyter-widgets/controls",
            "_model_module_version": "1.5.0",
            "value": " 87014/87014 [00:04&lt;00:00, 21072.48it/s]",
            "_view_count": null,
            "_view_module_version": "1.5.0",
            "description_tooltip": null,
            "_model_module": "@jupyter-widgets/controls",
            "layout": "IPY_MODEL_e9af1a637c834dd3b8180f47f405d9cf"
          }
        },
        "2e9c9b6ea2f04e018aea9adc5c244b35": {
          "model_module": "@jupyter-widgets/controls",
          "model_name": "ProgressStyleModel",
          "state": {
            "_view_name": "StyleView",
            "_model_name": "ProgressStyleModel",
            "description_width": "initial",
            "_view_module": "@jupyter-widgets/base",
            "_model_module_version": "1.5.0",
            "_view_count": null,
            "_view_module_version": "1.2.0",
            "bar_color": null,
            "_model_module": "@jupyter-widgets/controls"
          }
        },
        "20f0064f6dc44d1081de46813500cc7c": {
          "model_module": "@jupyter-widgets/base",
          "model_name": "LayoutModel",
          "state": {
            "_view_name": "LayoutView",
            "grid_template_rows": null,
            "right": null,
            "justify_content": null,
            "_view_module": "@jupyter-widgets/base",
            "overflow": null,
            "_model_module_version": "1.2.0",
            "_view_count": null,
            "flex_flow": null,
            "width": null,
            "min_width": null,
            "border": null,
            "align_items": null,
            "bottom": null,
            "_model_module": "@jupyter-widgets/base",
            "top": null,
            "grid_column": null,
            "overflow_y": null,
            "overflow_x": null,
            "grid_auto_flow": null,
            "grid_area": null,
            "grid_template_columns": null,
            "flex": null,
            "_model_name": "LayoutModel",
            "justify_items": null,
            "grid_row": null,
            "max_height": null,
            "align_content": null,
            "visibility": null,
            "align_self": null,
            "height": null,
            "min_height": null,
            "padding": null,
            "grid_auto_rows": null,
            "grid_gap": null,
            "max_width": null,
            "order": null,
            "_view_module_version": "1.2.0",
            "grid_template_areas": null,
            "object_position": null,
            "object_fit": null,
            "grid_auto_columns": null,
            "margin": null,
            "display": null,
            "left": null
          }
        },
        "ca13703655504a3e9002237e7c327633": {
          "model_module": "@jupyter-widgets/controls",
          "model_name": "DescriptionStyleModel",
          "state": {
            "_view_name": "StyleView",
            "_model_name": "DescriptionStyleModel",
            "description_width": "",
            "_view_module": "@jupyter-widgets/base",
            "_model_module_version": "1.5.0",
            "_view_count": null,
            "_view_module_version": "1.2.0",
            "_model_module": "@jupyter-widgets/controls"
          }
        },
        "e9af1a637c834dd3b8180f47f405d9cf": {
          "model_module": "@jupyter-widgets/base",
          "model_name": "LayoutModel",
          "state": {
            "_view_name": "LayoutView",
            "grid_template_rows": null,
            "right": null,
            "justify_content": null,
            "_view_module": "@jupyter-widgets/base",
            "overflow": null,
            "_model_module_version": "1.2.0",
            "_view_count": null,
            "flex_flow": null,
            "width": null,
            "min_width": null,
            "border": null,
            "align_items": null,
            "bottom": null,
            "_model_module": "@jupyter-widgets/base",
            "top": null,
            "grid_column": null,
            "overflow_y": null,
            "overflow_x": null,
            "grid_auto_flow": null,
            "grid_area": null,
            "grid_template_columns": null,
            "flex": null,
            "_model_name": "LayoutModel",
            "justify_items": null,
            "grid_row": null,
            "max_height": null,
            "align_content": null,
            "visibility": null,
            "align_self": null,
            "height": null,
            "min_height": null,
            "padding": null,
            "grid_auto_rows": null,
            "grid_gap": null,
            "max_width": null,
            "order": null,
            "_view_module_version": "1.2.0",
            "grid_template_areas": null,
            "object_position": null,
            "object_fit": null,
            "grid_auto_columns": null,
            "margin": null,
            "display": null,
            "left": null
          }
        },
        "077c164e762642d0b46950db50e8181a": {
          "model_module": "@jupyter-widgets/controls",
          "model_name": "HBoxModel",
          "state": {
            "_view_name": "HBoxView",
            "_dom_classes": [],
            "_model_name": "HBoxModel",
            "_view_module": "@jupyter-widgets/controls",
            "_model_module_version": "1.5.0",
            "_view_count": null,
            "_view_module_version": "1.5.0",
            "box_style": "",
            "layout": "IPY_MODEL_1a370d760857451cb6bf16263a75c730",
            "_model_module": "@jupyter-widgets/controls",
            "children": [
              "IPY_MODEL_e87e2e78e5e643c483f0474b0d1d0a00",
              "IPY_MODEL_2b09a0dda4bb4f04bd5771f9382332e5"
            ]
          }
        },
        "1a370d760857451cb6bf16263a75c730": {
          "model_module": "@jupyter-widgets/base",
          "model_name": "LayoutModel",
          "state": {
            "_view_name": "LayoutView",
            "grid_template_rows": null,
            "right": null,
            "justify_content": null,
            "_view_module": "@jupyter-widgets/base",
            "overflow": null,
            "_model_module_version": "1.2.0",
            "_view_count": null,
            "flex_flow": null,
            "width": null,
            "min_width": null,
            "border": null,
            "align_items": null,
            "bottom": null,
            "_model_module": "@jupyter-widgets/base",
            "top": null,
            "grid_column": null,
            "overflow_y": null,
            "overflow_x": null,
            "grid_auto_flow": null,
            "grid_area": null,
            "grid_template_columns": null,
            "flex": null,
            "_model_name": "LayoutModel",
            "justify_items": null,
            "grid_row": null,
            "max_height": null,
            "align_content": null,
            "visibility": null,
            "align_self": null,
            "height": null,
            "min_height": null,
            "padding": null,
            "grid_auto_rows": null,
            "grid_gap": null,
            "max_width": null,
            "order": null,
            "_view_module_version": "1.2.0",
            "grid_template_areas": null,
            "object_position": null,
            "object_fit": null,
            "grid_auto_columns": null,
            "margin": null,
            "display": null,
            "left": null
          }
        },
        "e87e2e78e5e643c483f0474b0d1d0a00": {
          "model_module": "@jupyter-widgets/controls",
          "model_name": "FloatProgressModel",
          "state": {
            "_view_name": "ProgressView",
            "style": "IPY_MODEL_40956d05ebcc4c9cae1b3c8246fe3254",
            "_dom_classes": [],
            "description": "100%",
            "_model_name": "FloatProgressModel",
            "bar_style": "success",
            "max": 100,
            "_view_module": "@jupyter-widgets/controls",
            "_model_module_version": "1.5.0",
            "value": 100,
            "_view_count": null,
            "_view_module_version": "1.5.0",
            "orientation": "horizontal",
            "min": 0,
            "description_tooltip": null,
            "_model_module": "@jupyter-widgets/controls",
            "layout": "IPY_MODEL_645b6ce5af984579b18c3e28480f83cc"
          }
        },
        "2b09a0dda4bb4f04bd5771f9382332e5": {
          "model_module": "@jupyter-widgets/controls",
          "model_name": "HTMLModel",
          "state": {
            "_view_name": "HTMLView",
            "style": "IPY_MODEL_4ec39f7d55bc4784b17592fb8dc3e590",
            "_dom_classes": [],
            "description": "",
            "_model_name": "HTMLModel",
            "placeholder": "​",
            "_view_module": "@jupyter-widgets/controls",
            "_model_module_version": "1.5.0",
            "value": " 100/100 [00:00&lt;00:00, 1406.87it/s]",
            "_view_count": null,
            "_view_module_version": "1.5.0",
            "description_tooltip": null,
            "_model_module": "@jupyter-widgets/controls",
            "layout": "IPY_MODEL_cea3d37d26f14afe8a7d7f5e5efa883f"
          }
        },
        "40956d05ebcc4c9cae1b3c8246fe3254": {
          "model_module": "@jupyter-widgets/controls",
          "model_name": "ProgressStyleModel",
          "state": {
            "_view_name": "StyleView",
            "_model_name": "ProgressStyleModel",
            "description_width": "initial",
            "_view_module": "@jupyter-widgets/base",
            "_model_module_version": "1.5.0",
            "_view_count": null,
            "_view_module_version": "1.2.0",
            "bar_color": null,
            "_model_module": "@jupyter-widgets/controls"
          }
        },
        "645b6ce5af984579b18c3e28480f83cc": {
          "model_module": "@jupyter-widgets/base",
          "model_name": "LayoutModel",
          "state": {
            "_view_name": "LayoutView",
            "grid_template_rows": null,
            "right": null,
            "justify_content": null,
            "_view_module": "@jupyter-widgets/base",
            "overflow": null,
            "_model_module_version": "1.2.0",
            "_view_count": null,
            "flex_flow": null,
            "width": null,
            "min_width": null,
            "border": null,
            "align_items": null,
            "bottom": null,
            "_model_module": "@jupyter-widgets/base",
            "top": null,
            "grid_column": null,
            "overflow_y": null,
            "overflow_x": null,
            "grid_auto_flow": null,
            "grid_area": null,
            "grid_template_columns": null,
            "flex": null,
            "_model_name": "LayoutModel",
            "justify_items": null,
            "grid_row": null,
            "max_height": null,
            "align_content": null,
            "visibility": null,
            "align_self": null,
            "height": null,
            "min_height": null,
            "padding": null,
            "grid_auto_rows": null,
            "grid_gap": null,
            "max_width": null,
            "order": null,
            "_view_module_version": "1.2.0",
            "grid_template_areas": null,
            "object_position": null,
            "object_fit": null,
            "grid_auto_columns": null,
            "margin": null,
            "display": null,
            "left": null
          }
        },
        "4ec39f7d55bc4784b17592fb8dc3e590": {
          "model_module": "@jupyter-widgets/controls",
          "model_name": "DescriptionStyleModel",
          "state": {
            "_view_name": "StyleView",
            "_model_name": "DescriptionStyleModel",
            "description_width": "",
            "_view_module": "@jupyter-widgets/base",
            "_model_module_version": "1.5.0",
            "_view_count": null,
            "_view_module_version": "1.2.0",
            "_model_module": "@jupyter-widgets/controls"
          }
        },
        "cea3d37d26f14afe8a7d7f5e5efa883f": {
          "model_module": "@jupyter-widgets/base",
          "model_name": "LayoutModel",
          "state": {
            "_view_name": "LayoutView",
            "grid_template_rows": null,
            "right": null,
            "justify_content": null,
            "_view_module": "@jupyter-widgets/base",
            "overflow": null,
            "_model_module_version": "1.2.0",
            "_view_count": null,
            "flex_flow": null,
            "width": null,
            "min_width": null,
            "border": null,
            "align_items": null,
            "bottom": null,
            "_model_module": "@jupyter-widgets/base",
            "top": null,
            "grid_column": null,
            "overflow_y": null,
            "overflow_x": null,
            "grid_auto_flow": null,
            "grid_area": null,
            "grid_template_columns": null,
            "flex": null,
            "_model_name": "LayoutModel",
            "justify_items": null,
            "grid_row": null,
            "max_height": null,
            "align_content": null,
            "visibility": null,
            "align_self": null,
            "height": null,
            "min_height": null,
            "padding": null,
            "grid_auto_rows": null,
            "grid_gap": null,
            "max_width": null,
            "order": null,
            "_view_module_version": "1.2.0",
            "grid_template_areas": null,
            "object_position": null,
            "object_fit": null,
            "grid_auto_columns": null,
            "margin": null,
            "display": null,
            "left": null
          }
        },
        "3a7deae125ac4f5a8ce659bb19658122": {
          "model_module": "@jupyter-widgets/controls",
          "model_name": "HBoxModel",
          "state": {
            "_view_name": "HBoxView",
            "_dom_classes": [],
            "_model_name": "HBoxModel",
            "_view_module": "@jupyter-widgets/controls",
            "_model_module_version": "1.5.0",
            "_view_count": null,
            "_view_module_version": "1.5.0",
            "box_style": "",
            "layout": "IPY_MODEL_78da56c7d3c04279a43d5b97fa7c3b23",
            "_model_module": "@jupyter-widgets/controls",
            "children": [
              "IPY_MODEL_58a2b1f507484abbbe910a7f470be485",
              "IPY_MODEL_bdad13ccb7b5466290c70d5cfe005f06"
            ]
          }
        },
        "78da56c7d3c04279a43d5b97fa7c3b23": {
          "model_module": "@jupyter-widgets/base",
          "model_name": "LayoutModel",
          "state": {
            "_view_name": "LayoutView",
            "grid_template_rows": null,
            "right": null,
            "justify_content": null,
            "_view_module": "@jupyter-widgets/base",
            "overflow": null,
            "_model_module_version": "1.2.0",
            "_view_count": null,
            "flex_flow": null,
            "width": null,
            "min_width": null,
            "border": null,
            "align_items": null,
            "bottom": null,
            "_model_module": "@jupyter-widgets/base",
            "top": null,
            "grid_column": null,
            "overflow_y": null,
            "overflow_x": null,
            "grid_auto_flow": null,
            "grid_area": null,
            "grid_template_columns": null,
            "flex": null,
            "_model_name": "LayoutModel",
            "justify_items": null,
            "grid_row": null,
            "max_height": null,
            "align_content": null,
            "visibility": null,
            "align_self": null,
            "height": null,
            "min_height": null,
            "padding": null,
            "grid_auto_rows": null,
            "grid_gap": null,
            "max_width": null,
            "order": null,
            "_view_module_version": "1.2.0",
            "grid_template_areas": null,
            "object_position": null,
            "object_fit": null,
            "grid_auto_columns": null,
            "margin": null,
            "display": null,
            "left": null
          }
        },
        "58a2b1f507484abbbe910a7f470be485": {
          "model_module": "@jupyter-widgets/controls",
          "model_name": "FloatProgressModel",
          "state": {
            "_view_name": "ProgressView",
            "style": "IPY_MODEL_a92b96f335e840508589698c9aaf9825",
            "_dom_classes": [],
            "description": "100%",
            "_model_name": "FloatProgressModel",
            "bar_style": "success",
            "max": 85097,
            "_view_module": "@jupyter-widgets/controls",
            "_model_module_version": "1.5.0",
            "value": 85097,
            "_view_count": null,
            "_view_module_version": "1.5.0",
            "orientation": "horizontal",
            "min": 0,
            "description_tooltip": null,
            "_model_module": "@jupyter-widgets/controls",
            "layout": "IPY_MODEL_53091a8313cc45809c698e6354cecfc4"
          }
        },
        "bdad13ccb7b5466290c70d5cfe005f06": {
          "model_module": "@jupyter-widgets/controls",
          "model_name": "HTMLModel",
          "state": {
            "_view_name": "HTMLView",
            "style": "IPY_MODEL_c0060339414647aeb65ce8ca0993281a",
            "_dom_classes": [],
            "description": "",
            "_model_name": "HTMLModel",
            "placeholder": "​",
            "_view_module": "@jupyter-widgets/controls",
            "_model_module_version": "1.5.0",
            "value": " 85097/85097 [00:00&lt;00:00, 113570.69it/s]",
            "_view_count": null,
            "_view_module_version": "1.5.0",
            "description_tooltip": null,
            "_model_module": "@jupyter-widgets/controls",
            "layout": "IPY_MODEL_5300bf03fc944b8796d68105dda566fd"
          }
        },
        "a92b96f335e840508589698c9aaf9825": {
          "model_module": "@jupyter-widgets/controls",
          "model_name": "ProgressStyleModel",
          "state": {
            "_view_name": "StyleView",
            "_model_name": "ProgressStyleModel",
            "description_width": "initial",
            "_view_module": "@jupyter-widgets/base",
            "_model_module_version": "1.5.0",
            "_view_count": null,
            "_view_module_version": "1.2.0",
            "bar_color": null,
            "_model_module": "@jupyter-widgets/controls"
          }
        },
        "53091a8313cc45809c698e6354cecfc4": {
          "model_module": "@jupyter-widgets/base",
          "model_name": "LayoutModel",
          "state": {
            "_view_name": "LayoutView",
            "grid_template_rows": null,
            "right": null,
            "justify_content": null,
            "_view_module": "@jupyter-widgets/base",
            "overflow": null,
            "_model_module_version": "1.2.0",
            "_view_count": null,
            "flex_flow": null,
            "width": null,
            "min_width": null,
            "border": null,
            "align_items": null,
            "bottom": null,
            "_model_module": "@jupyter-widgets/base",
            "top": null,
            "grid_column": null,
            "overflow_y": null,
            "overflow_x": null,
            "grid_auto_flow": null,
            "grid_area": null,
            "grid_template_columns": null,
            "flex": null,
            "_model_name": "LayoutModel",
            "justify_items": null,
            "grid_row": null,
            "max_height": null,
            "align_content": null,
            "visibility": null,
            "align_self": null,
            "height": null,
            "min_height": null,
            "padding": null,
            "grid_auto_rows": null,
            "grid_gap": null,
            "max_width": null,
            "order": null,
            "_view_module_version": "1.2.0",
            "grid_template_areas": null,
            "object_position": null,
            "object_fit": null,
            "grid_auto_columns": null,
            "margin": null,
            "display": null,
            "left": null
          }
        },
        "c0060339414647aeb65ce8ca0993281a": {
          "model_module": "@jupyter-widgets/controls",
          "model_name": "DescriptionStyleModel",
          "state": {
            "_view_name": "StyleView",
            "_model_name": "DescriptionStyleModel",
            "description_width": "",
            "_view_module": "@jupyter-widgets/base",
            "_model_module_version": "1.5.0",
            "_view_count": null,
            "_view_module_version": "1.2.0",
            "_model_module": "@jupyter-widgets/controls"
          }
        },
        "5300bf03fc944b8796d68105dda566fd": {
          "model_module": "@jupyter-widgets/base",
          "model_name": "LayoutModel",
          "state": {
            "_view_name": "LayoutView",
            "grid_template_rows": null,
            "right": null,
            "justify_content": null,
            "_view_module": "@jupyter-widgets/base",
            "overflow": null,
            "_model_module_version": "1.2.0",
            "_view_count": null,
            "flex_flow": null,
            "width": null,
            "min_width": null,
            "border": null,
            "align_items": null,
            "bottom": null,
            "_model_module": "@jupyter-widgets/base",
            "top": null,
            "grid_column": null,
            "overflow_y": null,
            "overflow_x": null,
            "grid_auto_flow": null,
            "grid_area": null,
            "grid_template_columns": null,
            "flex": null,
            "_model_name": "LayoutModel",
            "justify_items": null,
            "grid_row": null,
            "max_height": null,
            "align_content": null,
            "visibility": null,
            "align_self": null,
            "height": null,
            "min_height": null,
            "padding": null,
            "grid_auto_rows": null,
            "grid_gap": null,
            "max_width": null,
            "order": null,
            "_view_module_version": "1.2.0",
            "grid_template_areas": null,
            "object_position": null,
            "object_fit": null,
            "grid_auto_columns": null,
            "margin": null,
            "display": null,
            "left": null
          }
        },
        "e0a61573abc0423db9794dbcd3b1426b": {
          "model_module": "@jupyter-widgets/controls",
          "model_name": "HBoxModel",
          "state": {
            "_view_name": "HBoxView",
            "_dom_classes": [],
            "_model_name": "HBoxModel",
            "_view_module": "@jupyter-widgets/controls",
            "_model_module_version": "1.5.0",
            "_view_count": null,
            "_view_module_version": "1.5.0",
            "box_style": "",
            "layout": "IPY_MODEL_71c1e7c263d14b99b2d100964a13483c",
            "_model_module": "@jupyter-widgets/controls",
            "children": [
              "IPY_MODEL_f92905b46f464becb214cd5eca28e707",
              "IPY_MODEL_4ca735123d8e4587a52154fa71a16dae"
            ]
          }
        },
        "71c1e7c263d14b99b2d100964a13483c": {
          "model_module": "@jupyter-widgets/base",
          "model_name": "LayoutModel",
          "state": {
            "_view_name": "LayoutView",
            "grid_template_rows": null,
            "right": null,
            "justify_content": null,
            "_view_module": "@jupyter-widgets/base",
            "overflow": null,
            "_model_module_version": "1.2.0",
            "_view_count": null,
            "flex_flow": null,
            "width": null,
            "min_width": null,
            "border": null,
            "align_items": null,
            "bottom": null,
            "_model_module": "@jupyter-widgets/base",
            "top": null,
            "grid_column": null,
            "overflow_y": null,
            "overflow_x": null,
            "grid_auto_flow": null,
            "grid_area": null,
            "grid_template_columns": null,
            "flex": null,
            "_model_name": "LayoutModel",
            "justify_items": null,
            "grid_row": null,
            "max_height": null,
            "align_content": null,
            "visibility": null,
            "align_self": null,
            "height": null,
            "min_height": null,
            "padding": null,
            "grid_auto_rows": null,
            "grid_gap": null,
            "max_width": null,
            "order": null,
            "_view_module_version": "1.2.0",
            "grid_template_areas": null,
            "object_position": null,
            "object_fit": null,
            "grid_auto_columns": null,
            "margin": null,
            "display": null,
            "left": null
          }
        },
        "f92905b46f464becb214cd5eca28e707": {
          "model_module": "@jupyter-widgets/controls",
          "model_name": "FloatProgressModel",
          "state": {
            "_view_name": "ProgressView",
            "style": "IPY_MODEL_67682e71378c4119bd67b9360067ce23",
            "_dom_classes": [],
            "description": "100%",
            "_model_name": "FloatProgressModel",
            "bar_style": "success",
            "max": 169302,
            "_view_module": "@jupyter-widgets/controls",
            "_model_module_version": "1.5.0",
            "value": 169302,
            "_view_count": null,
            "_view_module_version": "1.5.0",
            "orientation": "horizontal",
            "min": 0,
            "description_tooltip": null,
            "_model_module": "@jupyter-widgets/controls",
            "layout": "IPY_MODEL_9b0a75fb4088410197421452123020b3"
          }
        },
        "4ca735123d8e4587a52154fa71a16dae": {
          "model_module": "@jupyter-widgets/controls",
          "model_name": "HTMLModel",
          "state": {
            "_view_name": "HTMLView",
            "style": "IPY_MODEL_c5717dd048a348d3af1f4322c0dd151d",
            "_dom_classes": [],
            "description": "",
            "_model_name": "HTMLModel",
            "placeholder": "​",
            "_view_module": "@jupyter-widgets/controls",
            "_model_module_version": "1.5.0",
            "value": " 169302/169302 [00:00&lt;00:00, 397482.93it/s]",
            "_view_count": null,
            "_view_module_version": "1.5.0",
            "description_tooltip": null,
            "_model_module": "@jupyter-widgets/controls",
            "layout": "IPY_MODEL_28bd19981f754fceaaca2afcb7a47568"
          }
        },
        "67682e71378c4119bd67b9360067ce23": {
          "model_module": "@jupyter-widgets/controls",
          "model_name": "ProgressStyleModel",
          "state": {
            "_view_name": "StyleView",
            "_model_name": "ProgressStyleModel",
            "description_width": "initial",
            "_view_module": "@jupyter-widgets/base",
            "_model_module_version": "1.5.0",
            "_view_count": null,
            "_view_module_version": "1.2.0",
            "bar_color": null,
            "_model_module": "@jupyter-widgets/controls"
          }
        },
        "9b0a75fb4088410197421452123020b3": {
          "model_module": "@jupyter-widgets/base",
          "model_name": "LayoutModel",
          "state": {
            "_view_name": "LayoutView",
            "grid_template_rows": null,
            "right": null,
            "justify_content": null,
            "_view_module": "@jupyter-widgets/base",
            "overflow": null,
            "_model_module_version": "1.2.0",
            "_view_count": null,
            "flex_flow": null,
            "width": null,
            "min_width": null,
            "border": null,
            "align_items": null,
            "bottom": null,
            "_model_module": "@jupyter-widgets/base",
            "top": null,
            "grid_column": null,
            "overflow_y": null,
            "overflow_x": null,
            "grid_auto_flow": null,
            "grid_area": null,
            "grid_template_columns": null,
            "flex": null,
            "_model_name": "LayoutModel",
            "justify_items": null,
            "grid_row": null,
            "max_height": null,
            "align_content": null,
            "visibility": null,
            "align_self": null,
            "height": null,
            "min_height": null,
            "padding": null,
            "grid_auto_rows": null,
            "grid_gap": null,
            "max_width": null,
            "order": null,
            "_view_module_version": "1.2.0",
            "grid_template_areas": null,
            "object_position": null,
            "object_fit": null,
            "grid_auto_columns": null,
            "margin": null,
            "display": null,
            "left": null
          }
        },
        "c5717dd048a348d3af1f4322c0dd151d": {
          "model_module": "@jupyter-widgets/controls",
          "model_name": "DescriptionStyleModel",
          "state": {
            "_view_name": "StyleView",
            "_model_name": "DescriptionStyleModel",
            "description_width": "",
            "_view_module": "@jupyter-widgets/base",
            "_model_module_version": "1.5.0",
            "_view_count": null,
            "_view_module_version": "1.2.0",
            "_model_module": "@jupyter-widgets/controls"
          }
        },
        "28bd19981f754fceaaca2afcb7a47568": {
          "model_module": "@jupyter-widgets/base",
          "model_name": "LayoutModel",
          "state": {
            "_view_name": "LayoutView",
            "grid_template_rows": null,
            "right": null,
            "justify_content": null,
            "_view_module": "@jupyter-widgets/base",
            "overflow": null,
            "_model_module_version": "1.2.0",
            "_view_count": null,
            "flex_flow": null,
            "width": null,
            "min_width": null,
            "border": null,
            "align_items": null,
            "bottom": null,
            "_model_module": "@jupyter-widgets/base",
            "top": null,
            "grid_column": null,
            "overflow_y": null,
            "overflow_x": null,
            "grid_auto_flow": null,
            "grid_area": null,
            "grid_template_columns": null,
            "flex": null,
            "_model_name": "LayoutModel",
            "justify_items": null,
            "grid_row": null,
            "max_height": null,
            "align_content": null,
            "visibility": null,
            "align_self": null,
            "height": null,
            "min_height": null,
            "padding": null,
            "grid_auto_rows": null,
            "grid_gap": null,
            "max_width": null,
            "order": null,
            "_view_module_version": "1.2.0",
            "grid_template_areas": null,
            "object_position": null,
            "object_fit": null,
            "grid_auto_columns": null,
            "margin": null,
            "display": null,
            "left": null
          }
        },
        "737e3fe2941946d0a214ce18dc2cc377": {
          "model_module": "@jupyter-widgets/controls",
          "model_name": "HBoxModel",
          "state": {
            "_view_name": "HBoxView",
            "_dom_classes": [],
            "_model_name": "HBoxModel",
            "_view_module": "@jupyter-widgets/controls",
            "_model_module_version": "1.5.0",
            "_view_count": null,
            "_view_module_version": "1.5.0",
            "box_style": "",
            "layout": "IPY_MODEL_f886d4fdedd047f291255fc7472e72f3",
            "_model_module": "@jupyter-widgets/controls",
            "children": [
              "IPY_MODEL_225ede7dcc57499ebf493c2e85c9c2b4",
              "IPY_MODEL_f595c49c91994402b09fff8905c3b4c3"
            ]
          }
        },
        "f886d4fdedd047f291255fc7472e72f3": {
          "model_module": "@jupyter-widgets/base",
          "model_name": "LayoutModel",
          "state": {
            "_view_name": "LayoutView",
            "grid_template_rows": null,
            "right": null,
            "justify_content": null,
            "_view_module": "@jupyter-widgets/base",
            "overflow": null,
            "_model_module_version": "1.2.0",
            "_view_count": null,
            "flex_flow": null,
            "width": null,
            "min_width": null,
            "border": null,
            "align_items": null,
            "bottom": null,
            "_model_module": "@jupyter-widgets/base",
            "top": null,
            "grid_column": null,
            "overflow_y": null,
            "overflow_x": null,
            "grid_auto_flow": null,
            "grid_area": null,
            "grid_template_columns": null,
            "flex": null,
            "_model_name": "LayoutModel",
            "justify_items": null,
            "grid_row": null,
            "max_height": null,
            "align_content": null,
            "visibility": null,
            "align_self": null,
            "height": null,
            "min_height": null,
            "padding": null,
            "grid_auto_rows": null,
            "grid_gap": null,
            "max_width": null,
            "order": null,
            "_view_module_version": "1.2.0",
            "grid_template_areas": null,
            "object_position": null,
            "object_fit": null,
            "grid_auto_columns": null,
            "margin": null,
            "display": null,
            "left": null
          }
        },
        "225ede7dcc57499ebf493c2e85c9c2b4": {
          "model_module": "@jupyter-widgets/controls",
          "model_name": "FloatProgressModel",
          "state": {
            "_view_name": "ProgressView",
            "style": "IPY_MODEL_c80837bc15884448997abe7cf97a34fa",
            "_dom_classes": [],
            "description": "100%",
            "_model_name": "FloatProgressModel",
            "bar_style": "success",
            "max": 24185,
            "_view_module": "@jupyter-widgets/controls",
            "_model_module_version": "1.5.0",
            "value": 24185,
            "_view_count": null,
            "_view_module_version": "1.5.0",
            "orientation": "horizontal",
            "min": 0,
            "description_tooltip": null,
            "_model_module": "@jupyter-widgets/controls",
            "layout": "IPY_MODEL_895c821f5ebb42a6adc893446087e36c"
          }
        },
        "f595c49c91994402b09fff8905c3b4c3": {
          "model_module": "@jupyter-widgets/controls",
          "model_name": "HTMLModel",
          "state": {
            "_view_name": "HTMLView",
            "style": "IPY_MODEL_2351e234b13b4fd587f5c4ee189b53bc",
            "_dom_classes": [],
            "description": "",
            "_model_name": "HTMLModel",
            "placeholder": "​",
            "_view_module": "@jupyter-widgets/controls",
            "_model_module_version": "1.5.0",
            "value": " 24185/24185 [00:00&lt;00:00, 151312.65it/s]",
            "_view_count": null,
            "_view_module_version": "1.5.0",
            "description_tooltip": null,
            "_model_module": "@jupyter-widgets/controls",
            "layout": "IPY_MODEL_a6f10b6c1a6c473883d7c7ca0ef4c8d3"
          }
        },
        "c80837bc15884448997abe7cf97a34fa": {
          "model_module": "@jupyter-widgets/controls",
          "model_name": "ProgressStyleModel",
          "state": {
            "_view_name": "StyleView",
            "_model_name": "ProgressStyleModel",
            "description_width": "initial",
            "_view_module": "@jupyter-widgets/base",
            "_model_module_version": "1.5.0",
            "_view_count": null,
            "_view_module_version": "1.2.0",
            "bar_color": null,
            "_model_module": "@jupyter-widgets/controls"
          }
        },
        "895c821f5ebb42a6adc893446087e36c": {
          "model_module": "@jupyter-widgets/base",
          "model_name": "LayoutModel",
          "state": {
            "_view_name": "LayoutView",
            "grid_template_rows": null,
            "right": null,
            "justify_content": null,
            "_view_module": "@jupyter-widgets/base",
            "overflow": null,
            "_model_module_version": "1.2.0",
            "_view_count": null,
            "flex_flow": null,
            "width": null,
            "min_width": null,
            "border": null,
            "align_items": null,
            "bottom": null,
            "_model_module": "@jupyter-widgets/base",
            "top": null,
            "grid_column": null,
            "overflow_y": null,
            "overflow_x": null,
            "grid_auto_flow": null,
            "grid_area": null,
            "grid_template_columns": null,
            "flex": null,
            "_model_name": "LayoutModel",
            "justify_items": null,
            "grid_row": null,
            "max_height": null,
            "align_content": null,
            "visibility": null,
            "align_self": null,
            "height": null,
            "min_height": null,
            "padding": null,
            "grid_auto_rows": null,
            "grid_gap": null,
            "max_width": null,
            "order": null,
            "_view_module_version": "1.2.0",
            "grid_template_areas": null,
            "object_position": null,
            "object_fit": null,
            "grid_auto_columns": null,
            "margin": null,
            "display": null,
            "left": null
          }
        },
        "2351e234b13b4fd587f5c4ee189b53bc": {
          "model_module": "@jupyter-widgets/controls",
          "model_name": "DescriptionStyleModel",
          "state": {
            "_view_name": "StyleView",
            "_model_name": "DescriptionStyleModel",
            "description_width": "",
            "_view_module": "@jupyter-widgets/base",
            "_model_module_version": "1.5.0",
            "_view_count": null,
            "_view_module_version": "1.2.0",
            "_model_module": "@jupyter-widgets/controls"
          }
        },
        "a6f10b6c1a6c473883d7c7ca0ef4c8d3": {
          "model_module": "@jupyter-widgets/base",
          "model_name": "LayoutModel",
          "state": {
            "_view_name": "LayoutView",
            "grid_template_rows": null,
            "right": null,
            "justify_content": null,
            "_view_module": "@jupyter-widgets/base",
            "overflow": null,
            "_model_module_version": "1.2.0",
            "_view_count": null,
            "flex_flow": null,
            "width": null,
            "min_width": null,
            "border": null,
            "align_items": null,
            "bottom": null,
            "_model_module": "@jupyter-widgets/base",
            "top": null,
            "grid_column": null,
            "overflow_y": null,
            "overflow_x": null,
            "grid_auto_flow": null,
            "grid_area": null,
            "grid_template_columns": null,
            "flex": null,
            "_model_name": "LayoutModel",
            "justify_items": null,
            "grid_row": null,
            "max_height": null,
            "align_content": null,
            "visibility": null,
            "align_self": null,
            "height": null,
            "min_height": null,
            "padding": null,
            "grid_auto_rows": null,
            "grid_gap": null,
            "max_width": null,
            "order": null,
            "_view_module_version": "1.2.0",
            "grid_template_areas": null,
            "object_position": null,
            "object_fit": null,
            "grid_auto_columns": null,
            "margin": null,
            "display": null,
            "left": null
          }
        },
        "9f3f14363ce44171970282b638f45121": {
          "model_module": "@jupyter-widgets/controls",
          "model_name": "HBoxModel",
          "state": {
            "_view_name": "HBoxView",
            "_dom_classes": [],
            "_model_name": "HBoxModel",
            "_view_module": "@jupyter-widgets/controls",
            "_model_module_version": "1.5.0",
            "_view_count": null,
            "_view_module_version": "1.5.0",
            "box_style": "",
            "layout": "IPY_MODEL_5e500832298e4489bb1a43585ed75adf",
            "_model_module": "@jupyter-widgets/controls",
            "children": [
              "IPY_MODEL_15281cf842be4060a186ba9bff77feea",
              "IPY_MODEL_0adf21691c554272ba53c0e2022e94b6"
            ]
          }
        },
        "5e500832298e4489bb1a43585ed75adf": {
          "model_module": "@jupyter-widgets/base",
          "model_name": "LayoutModel",
          "state": {
            "_view_name": "LayoutView",
            "grid_template_rows": null,
            "right": null,
            "justify_content": null,
            "_view_module": "@jupyter-widgets/base",
            "overflow": null,
            "_model_module_version": "1.2.0",
            "_view_count": null,
            "flex_flow": null,
            "width": null,
            "min_width": null,
            "border": null,
            "align_items": null,
            "bottom": null,
            "_model_module": "@jupyter-widgets/base",
            "top": null,
            "grid_column": null,
            "overflow_y": null,
            "overflow_x": null,
            "grid_auto_flow": null,
            "grid_area": null,
            "grid_template_columns": null,
            "flex": null,
            "_model_name": "LayoutModel",
            "justify_items": null,
            "grid_row": null,
            "max_height": null,
            "align_content": null,
            "visibility": null,
            "align_self": null,
            "height": null,
            "min_height": null,
            "padding": null,
            "grid_auto_rows": null,
            "grid_gap": null,
            "max_width": null,
            "order": null,
            "_view_module_version": "1.2.0",
            "grid_template_areas": null,
            "object_position": null,
            "object_fit": null,
            "grid_auto_columns": null,
            "margin": null,
            "display": null,
            "left": null
          }
        },
        "15281cf842be4060a186ba9bff77feea": {
          "model_module": "@jupyter-widgets/controls",
          "model_name": "FloatProgressModel",
          "state": {
            "_view_name": "ProgressView",
            "style": "IPY_MODEL_506960881c404a029fd14854fdfdc165",
            "_dom_classes": [],
            "description": "100%",
            "_model_name": "FloatProgressModel",
            "bar_style": "success",
            "max": 95,
            "_view_module": "@jupyter-widgets/controls",
            "_model_module_version": "1.5.0",
            "value": 95,
            "_view_count": null,
            "_view_module_version": "1.5.0",
            "orientation": "horizontal",
            "min": 0,
            "description_tooltip": null,
            "_model_module": "@jupyter-widgets/controls",
            "layout": "IPY_MODEL_ced6e2a6ea174fa895b41b3fd612f145"
          }
        },
        "0adf21691c554272ba53c0e2022e94b6": {
          "model_module": "@jupyter-widgets/controls",
          "model_name": "HTMLModel",
          "state": {
            "_view_name": "HTMLView",
            "style": "IPY_MODEL_698bf0a2ff4342bbaa541bc0d21dced3",
            "_dom_classes": [],
            "description": "",
            "_model_name": "HTMLModel",
            "placeholder": "​",
            "_view_module": "@jupyter-widgets/controls",
            "_model_module_version": "1.5.0",
            "value": " 95/95 [00:00&lt;00:00, 1405.01it/s]",
            "_view_count": null,
            "_view_module_version": "1.5.0",
            "description_tooltip": null,
            "_model_module": "@jupyter-widgets/controls",
            "layout": "IPY_MODEL_73db9441ec9c4db59ff622565a8d1ff7"
          }
        },
        "506960881c404a029fd14854fdfdc165": {
          "model_module": "@jupyter-widgets/controls",
          "model_name": "ProgressStyleModel",
          "state": {
            "_view_name": "StyleView",
            "_model_name": "ProgressStyleModel",
            "description_width": "initial",
            "_view_module": "@jupyter-widgets/base",
            "_model_module_version": "1.5.0",
            "_view_count": null,
            "_view_module_version": "1.2.0",
            "bar_color": null,
            "_model_module": "@jupyter-widgets/controls"
          }
        },
        "ced6e2a6ea174fa895b41b3fd612f145": {
          "model_module": "@jupyter-widgets/base",
          "model_name": "LayoutModel",
          "state": {
            "_view_name": "LayoutView",
            "grid_template_rows": null,
            "right": null,
            "justify_content": null,
            "_view_module": "@jupyter-widgets/base",
            "overflow": null,
            "_model_module_version": "1.2.0",
            "_view_count": null,
            "flex_flow": null,
            "width": null,
            "min_width": null,
            "border": null,
            "align_items": null,
            "bottom": null,
            "_model_module": "@jupyter-widgets/base",
            "top": null,
            "grid_column": null,
            "overflow_y": null,
            "overflow_x": null,
            "grid_auto_flow": null,
            "grid_area": null,
            "grid_template_columns": null,
            "flex": null,
            "_model_name": "LayoutModel",
            "justify_items": null,
            "grid_row": null,
            "max_height": null,
            "align_content": null,
            "visibility": null,
            "align_self": null,
            "height": null,
            "min_height": null,
            "padding": null,
            "grid_auto_rows": null,
            "grid_gap": null,
            "max_width": null,
            "order": null,
            "_view_module_version": "1.2.0",
            "grid_template_areas": null,
            "object_position": null,
            "object_fit": null,
            "grid_auto_columns": null,
            "margin": null,
            "display": null,
            "left": null
          }
        },
        "698bf0a2ff4342bbaa541bc0d21dced3": {
          "model_module": "@jupyter-widgets/controls",
          "model_name": "DescriptionStyleModel",
          "state": {
            "_view_name": "StyleView",
            "_model_name": "DescriptionStyleModel",
            "description_width": "",
            "_view_module": "@jupyter-widgets/base",
            "_model_module_version": "1.5.0",
            "_view_count": null,
            "_view_module_version": "1.2.0",
            "_model_module": "@jupyter-widgets/controls"
          }
        },
        "73db9441ec9c4db59ff622565a8d1ff7": {
          "model_module": "@jupyter-widgets/base",
          "model_name": "LayoutModel",
          "state": {
            "_view_name": "LayoutView",
            "grid_template_rows": null,
            "right": null,
            "justify_content": null,
            "_view_module": "@jupyter-widgets/base",
            "overflow": null,
            "_model_module_version": "1.2.0",
            "_view_count": null,
            "flex_flow": null,
            "width": null,
            "min_width": null,
            "border": null,
            "align_items": null,
            "bottom": null,
            "_model_module": "@jupyter-widgets/base",
            "top": null,
            "grid_column": null,
            "overflow_y": null,
            "overflow_x": null,
            "grid_auto_flow": null,
            "grid_area": null,
            "grid_template_columns": null,
            "flex": null,
            "_model_name": "LayoutModel",
            "justify_items": null,
            "grid_row": null,
            "max_height": null,
            "align_content": null,
            "visibility": null,
            "align_self": null,
            "height": null,
            "min_height": null,
            "padding": null,
            "grid_auto_rows": null,
            "grid_gap": null,
            "max_width": null,
            "order": null,
            "_view_module_version": "1.2.0",
            "grid_template_areas": null,
            "object_position": null,
            "object_fit": null,
            "grid_auto_columns": null,
            "margin": null,
            "display": null,
            "left": null
          }
        },
        "40c72e001b1d41949baa7d4074e34b35": {
          "model_module": "@jupyter-widgets/controls",
          "model_name": "HBoxModel",
          "state": {
            "_view_name": "HBoxView",
            "_dom_classes": [],
            "_model_name": "HBoxModel",
            "_view_module": "@jupyter-widgets/controls",
            "_model_module_version": "1.5.0",
            "_view_count": null,
            "_view_module_version": "1.5.0",
            "box_style": "",
            "layout": "IPY_MODEL_f6a844d1811e41478babe1fe1537ebd9",
            "_model_module": "@jupyter-widgets/controls",
            "children": [
              "IPY_MODEL_53ed8838b83847cda1149ad93816fb49",
              "IPY_MODEL_83f57dcd3269430da074b8507335b69a"
            ]
          }
        },
        "f6a844d1811e41478babe1fe1537ebd9": {
          "model_module": "@jupyter-widgets/base",
          "model_name": "LayoutModel",
          "state": {
            "_view_name": "LayoutView",
            "grid_template_rows": null,
            "right": null,
            "justify_content": null,
            "_view_module": "@jupyter-widgets/base",
            "overflow": null,
            "_model_module_version": "1.2.0",
            "_view_count": null,
            "flex_flow": null,
            "width": null,
            "min_width": null,
            "border": null,
            "align_items": null,
            "bottom": null,
            "_model_module": "@jupyter-widgets/base",
            "top": null,
            "grid_column": null,
            "overflow_y": null,
            "overflow_x": null,
            "grid_auto_flow": null,
            "grid_area": null,
            "grid_template_columns": null,
            "flex": null,
            "_model_name": "LayoutModel",
            "justify_items": null,
            "grid_row": null,
            "max_height": null,
            "align_content": null,
            "visibility": null,
            "align_self": null,
            "height": null,
            "min_height": null,
            "padding": null,
            "grid_auto_rows": null,
            "grid_gap": null,
            "max_width": null,
            "order": null,
            "_view_module_version": "1.2.0",
            "grid_template_areas": null,
            "object_position": null,
            "object_fit": null,
            "grid_auto_columns": null,
            "margin": null,
            "display": null,
            "left": null
          }
        },
        "53ed8838b83847cda1149ad93816fb49": {
          "model_module": "@jupyter-widgets/controls",
          "model_name": "FloatProgressModel",
          "state": {
            "_view_name": "ProgressView",
            "style": "IPY_MODEL_3c9c7ede5fea427e9ee01f0d697744cb",
            "_dom_classes": [],
            "description": "100%",
            "_model_name": "FloatProgressModel",
            "bar_style": "success",
            "max": 85097,
            "_view_module": "@jupyter-widgets/controls",
            "_model_module_version": "1.5.0",
            "value": 85097,
            "_view_count": null,
            "_view_module_version": "1.5.0",
            "orientation": "horizontal",
            "min": 0,
            "description_tooltip": null,
            "_model_module": "@jupyter-widgets/controls",
            "layout": "IPY_MODEL_12de863764ca4a369049bb6b6a81d59b"
          }
        },
        "83f57dcd3269430da074b8507335b69a": {
          "model_module": "@jupyter-widgets/controls",
          "model_name": "HTMLModel",
          "state": {
            "_view_name": "HTMLView",
            "style": "IPY_MODEL_ff66af3395884eecb8de6055b8f417eb",
            "_dom_classes": [],
            "description": "",
            "_model_name": "HTMLModel",
            "placeholder": "​",
            "_view_module": "@jupyter-widgets/controls",
            "_model_module_version": "1.5.0",
            "value": " 85097/85097 [00:04&lt;00:00, 17419.74it/s]",
            "_view_count": null,
            "_view_module_version": "1.5.0",
            "description_tooltip": null,
            "_model_module": "@jupyter-widgets/controls",
            "layout": "IPY_MODEL_2c71a53c94a74414ad9bfc3bbf027ebb"
          }
        },
        "3c9c7ede5fea427e9ee01f0d697744cb": {
          "model_module": "@jupyter-widgets/controls",
          "model_name": "ProgressStyleModel",
          "state": {
            "_view_name": "StyleView",
            "_model_name": "ProgressStyleModel",
            "description_width": "initial",
            "_view_module": "@jupyter-widgets/base",
            "_model_module_version": "1.5.0",
            "_view_count": null,
            "_view_module_version": "1.2.0",
            "bar_color": null,
            "_model_module": "@jupyter-widgets/controls"
          }
        },
        "12de863764ca4a369049bb6b6a81d59b": {
          "model_module": "@jupyter-widgets/base",
          "model_name": "LayoutModel",
          "state": {
            "_view_name": "LayoutView",
            "grid_template_rows": null,
            "right": null,
            "justify_content": null,
            "_view_module": "@jupyter-widgets/base",
            "overflow": null,
            "_model_module_version": "1.2.0",
            "_view_count": null,
            "flex_flow": null,
            "width": null,
            "min_width": null,
            "border": null,
            "align_items": null,
            "bottom": null,
            "_model_module": "@jupyter-widgets/base",
            "top": null,
            "grid_column": null,
            "overflow_y": null,
            "overflow_x": null,
            "grid_auto_flow": null,
            "grid_area": null,
            "grid_template_columns": null,
            "flex": null,
            "_model_name": "LayoutModel",
            "justify_items": null,
            "grid_row": null,
            "max_height": null,
            "align_content": null,
            "visibility": null,
            "align_self": null,
            "height": null,
            "min_height": null,
            "padding": null,
            "grid_auto_rows": null,
            "grid_gap": null,
            "max_width": null,
            "order": null,
            "_view_module_version": "1.2.0",
            "grid_template_areas": null,
            "object_position": null,
            "object_fit": null,
            "grid_auto_columns": null,
            "margin": null,
            "display": null,
            "left": null
          }
        },
        "ff66af3395884eecb8de6055b8f417eb": {
          "model_module": "@jupyter-widgets/controls",
          "model_name": "DescriptionStyleModel",
          "state": {
            "_view_name": "StyleView",
            "_model_name": "DescriptionStyleModel",
            "description_width": "",
            "_view_module": "@jupyter-widgets/base",
            "_model_module_version": "1.5.0",
            "_view_count": null,
            "_view_module_version": "1.2.0",
            "_model_module": "@jupyter-widgets/controls"
          }
        },
        "2c71a53c94a74414ad9bfc3bbf027ebb": {
          "model_module": "@jupyter-widgets/base",
          "model_name": "LayoutModel",
          "state": {
            "_view_name": "LayoutView",
            "grid_template_rows": null,
            "right": null,
            "justify_content": null,
            "_view_module": "@jupyter-widgets/base",
            "overflow": null,
            "_model_module_version": "1.2.0",
            "_view_count": null,
            "flex_flow": null,
            "width": null,
            "min_width": null,
            "border": null,
            "align_items": null,
            "bottom": null,
            "_model_module": "@jupyter-widgets/base",
            "top": null,
            "grid_column": null,
            "overflow_y": null,
            "overflow_x": null,
            "grid_auto_flow": null,
            "grid_area": null,
            "grid_template_columns": null,
            "flex": null,
            "_model_name": "LayoutModel",
            "justify_items": null,
            "grid_row": null,
            "max_height": null,
            "align_content": null,
            "visibility": null,
            "align_self": null,
            "height": null,
            "min_height": null,
            "padding": null,
            "grid_auto_rows": null,
            "grid_gap": null,
            "max_width": null,
            "order": null,
            "_view_module_version": "1.2.0",
            "grid_template_areas": null,
            "object_position": null,
            "object_fit": null,
            "grid_auto_columns": null,
            "margin": null,
            "display": null,
            "left": null
          }
        },
        "01b31fe66ba642a295beb984ca4f3a5f": {
          "model_module": "@jupyter-widgets/controls",
          "model_name": "HBoxModel",
          "state": {
            "_view_name": "HBoxView",
            "_dom_classes": [],
            "_model_name": "HBoxModel",
            "_view_module": "@jupyter-widgets/controls",
            "_model_module_version": "1.5.0",
            "_view_count": null,
            "_view_module_version": "1.5.0",
            "box_style": "",
            "layout": "IPY_MODEL_a86956790de8448d9f435c2d350b89cc",
            "_model_module": "@jupyter-widgets/controls",
            "children": [
              "IPY_MODEL_cf40a573f3ea4aff9d656914cdbc8c05",
              "IPY_MODEL_63dc0cbd8c134f24873a7ed534a1f07f"
            ]
          }
        },
        "a86956790de8448d9f435c2d350b89cc": {
          "model_module": "@jupyter-widgets/base",
          "model_name": "LayoutModel",
          "state": {
            "_view_name": "LayoutView",
            "grid_template_rows": null,
            "right": null,
            "justify_content": null,
            "_view_module": "@jupyter-widgets/base",
            "overflow": null,
            "_model_module_version": "1.2.0",
            "_view_count": null,
            "flex_flow": null,
            "width": null,
            "min_width": null,
            "border": null,
            "align_items": null,
            "bottom": null,
            "_model_module": "@jupyter-widgets/base",
            "top": null,
            "grid_column": null,
            "overflow_y": null,
            "overflow_x": null,
            "grid_auto_flow": null,
            "grid_area": null,
            "grid_template_columns": null,
            "flex": null,
            "_model_name": "LayoutModel",
            "justify_items": null,
            "grid_row": null,
            "max_height": null,
            "align_content": null,
            "visibility": null,
            "align_self": null,
            "height": null,
            "min_height": null,
            "padding": null,
            "grid_auto_rows": null,
            "grid_gap": null,
            "max_width": null,
            "order": null,
            "_view_module_version": "1.2.0",
            "grid_template_areas": null,
            "object_position": null,
            "object_fit": null,
            "grid_auto_columns": null,
            "margin": null,
            "display": null,
            "left": null
          }
        },
        "cf40a573f3ea4aff9d656914cdbc8c05": {
          "model_module": "@jupyter-widgets/controls",
          "model_name": "FloatProgressModel",
          "state": {
            "_view_name": "ProgressView",
            "style": "IPY_MODEL_04f7e7bfe0c04c7ca714fb04e9c7747c",
            "_dom_classes": [],
            "description": "100%",
            "_model_name": "FloatProgressModel",
            "bar_style": "success",
            "max": 11467,
            "_view_module": "@jupyter-widgets/controls",
            "_model_module_version": "1.5.0",
            "value": 11467,
            "_view_count": null,
            "_view_module_version": "1.5.0",
            "orientation": "horizontal",
            "min": 0,
            "description_tooltip": null,
            "_model_module": "@jupyter-widgets/controls",
            "layout": "IPY_MODEL_c029f7acf1d54343b20125a0de91902a"
          }
        },
        "63dc0cbd8c134f24873a7ed534a1f07f": {
          "model_module": "@jupyter-widgets/controls",
          "model_name": "HTMLModel",
          "state": {
            "_view_name": "HTMLView",
            "style": "IPY_MODEL_65acb405e4af4494a0fecf2c06f99a22",
            "_dom_classes": [],
            "description": "",
            "_model_name": "HTMLModel",
            "placeholder": "​",
            "_view_module": "@jupyter-widgets/controls",
            "_model_module_version": "1.5.0",
            "value": " 11467/11467 [15:31&lt;00:00, 12.31it/s]",
            "_view_count": null,
            "_view_module_version": "1.5.0",
            "description_tooltip": null,
            "_model_module": "@jupyter-widgets/controls",
            "layout": "IPY_MODEL_9579258f569445728997293f1bd6a323"
          }
        },
        "04f7e7bfe0c04c7ca714fb04e9c7747c": {
          "model_module": "@jupyter-widgets/controls",
          "model_name": "ProgressStyleModel",
          "state": {
            "_view_name": "StyleView",
            "_model_name": "ProgressStyleModel",
            "description_width": "initial",
            "_view_module": "@jupyter-widgets/base",
            "_model_module_version": "1.5.0",
            "_view_count": null,
            "_view_module_version": "1.2.0",
            "bar_color": null,
            "_model_module": "@jupyter-widgets/controls"
          }
        },
        "c029f7acf1d54343b20125a0de91902a": {
          "model_module": "@jupyter-widgets/base",
          "model_name": "LayoutModel",
          "state": {
            "_view_name": "LayoutView",
            "grid_template_rows": null,
            "right": null,
            "justify_content": null,
            "_view_module": "@jupyter-widgets/base",
            "overflow": null,
            "_model_module_version": "1.2.0",
            "_view_count": null,
            "flex_flow": null,
            "width": null,
            "min_width": null,
            "border": null,
            "align_items": null,
            "bottom": null,
            "_model_module": "@jupyter-widgets/base",
            "top": null,
            "grid_column": null,
            "overflow_y": null,
            "overflow_x": null,
            "grid_auto_flow": null,
            "grid_area": null,
            "grid_template_columns": null,
            "flex": null,
            "_model_name": "LayoutModel",
            "justify_items": null,
            "grid_row": null,
            "max_height": null,
            "align_content": null,
            "visibility": null,
            "align_self": null,
            "height": null,
            "min_height": null,
            "padding": null,
            "grid_auto_rows": null,
            "grid_gap": null,
            "max_width": null,
            "order": null,
            "_view_module_version": "1.2.0",
            "grid_template_areas": null,
            "object_position": null,
            "object_fit": null,
            "grid_auto_columns": null,
            "margin": null,
            "display": null,
            "left": null
          }
        },
        "65acb405e4af4494a0fecf2c06f99a22": {
          "model_module": "@jupyter-widgets/controls",
          "model_name": "DescriptionStyleModel",
          "state": {
            "_view_name": "StyleView",
            "_model_name": "DescriptionStyleModel",
            "description_width": "",
            "_view_module": "@jupyter-widgets/base",
            "_model_module_version": "1.5.0",
            "_view_count": null,
            "_view_module_version": "1.2.0",
            "_model_module": "@jupyter-widgets/controls"
          }
        },
        "9579258f569445728997293f1bd6a323": {
          "model_module": "@jupyter-widgets/base",
          "model_name": "LayoutModel",
          "state": {
            "_view_name": "LayoutView",
            "grid_template_rows": null,
            "right": null,
            "justify_content": null,
            "_view_module": "@jupyter-widgets/base",
            "overflow": null,
            "_model_module_version": "1.2.0",
            "_view_count": null,
            "flex_flow": null,
            "width": null,
            "min_width": null,
            "border": null,
            "align_items": null,
            "bottom": null,
            "_model_module": "@jupyter-widgets/base",
            "top": null,
            "grid_column": null,
            "overflow_y": null,
            "overflow_x": null,
            "grid_auto_flow": null,
            "grid_area": null,
            "grid_template_columns": null,
            "flex": null,
            "_model_name": "LayoutModel",
            "justify_items": null,
            "grid_row": null,
            "max_height": null,
            "align_content": null,
            "visibility": null,
            "align_self": null,
            "height": null,
            "min_height": null,
            "padding": null,
            "grid_auto_rows": null,
            "grid_gap": null,
            "max_width": null,
            "order": null,
            "_view_module_version": "1.2.0",
            "grid_template_areas": null,
            "object_position": null,
            "object_fit": null,
            "grid_auto_columns": null,
            "margin": null,
            "display": null,
            "left": null
          }
        }
      }
    }
  },
  "cells": [
    {
      "cell_type": "markdown",
      "metadata": {
        "id": "dhUEupAyH_XL"
      },
      "source": [
        "# Dependency Parsing of Bengali Language"
      ]
    },
    {
      "cell_type": "code",
      "metadata": {
        "id": "eumR6Bi6tzeV"
      },
      "source": [
        "import os , sys ,re , json , time , glob\n",
        "from tqdm import tqdm \n",
        "import copy\n",
        "import os\n",
        "import sys,re\n",
        "import numpy as np\n",
        "from scipy import sparse\n",
        "from collections import Counter,defaultdict\n",
        "from tqdm.notebook import tqdm"
      ],
      "execution_count": 1,
      "outputs": []
    },
    {
      "cell_type": "markdown",
      "metadata": {
        "id": "sAvsLQo9F3XN"
      },
      "source": [
        "## Preprocessing "
      ]
    },
    {
      "cell_type": "code",
      "metadata": {
        "id": "LggLS6qXUfYi"
      },
      "source": [
        "sent_id = 0\n",
        "# final_list = list()\n",
        "chunks_with_troot = list()\n",
        "error_list = set()"
      ],
      "execution_count": 2,
      "outputs": []
    },
    {
      "cell_type": "code",
      "metadata": {
        "id": "XTddUgWkHc1W"
      },
      "source": [
        "def clean(txt):\n",
        "    temp = re.sub(r'\\s+', '', txt)\n",
        "    temp = re.sub(r'[<\\'\">]', '', temp)\n",
        "    # temp = re.sub(r'\"', '', temp)\n",
        "    return temp\n",
        "\n",
        "\n",
        "def parse_normal_line(line, file_name):\n",
        "    token = line.split('\\t')\n",
        "    word = token[1]\n",
        "    word_pos_tag = token[2]\n",
        "    return word , word_pos_tag\n",
        "\n",
        "\n",
        "def parse_1st_line(line1, file_name):\n",
        "    line = re.sub('\\t', ' ' , line1)\n",
        "    tokens = line.split(' ')\n",
        "    name_found = False\n",
        "    af, pos_name , true_pos_name ,  dep_rel , head , leader , word = '', '', '', '', '', '', ''\n",
        "    for tkn in tokens:\n",
        "        if 'af=' in tkn:\n",
        "            af = tkn\n",
        "        elif 'name=' in tkn :\n",
        "            name_found = True\n",
        "            pos_name = clean(tkn.split('=')[1])\n",
        "            if len(pos_name) >= 2 and pos_name[-2].isdigit(): true_pos_name = pos_name[:-2]\n",
        "            elif len(pos_name) >= 1 and pos_name[-1].isdigit() : true_pos_name = pos_name[:-1]\n",
        "            else: true_pos_name = pos_name\n",
        "        elif 'rel=' in tkn :\n",
        "            if \"rel=''\" in tkn:\n",
        "                continue\n",
        "            item = tkn.split('=')[1]\n",
        "            try :\n",
        "                dep_rel , head = item.split(':')\n",
        "            except :\n",
        "                print(file_name , line)\n",
        "            dep_rel , head = clean(dep_rel) , clean(head)\n",
        "        elif 'head=' in tkn:\n",
        "            leader = clean(tkn.split('=')[1])\n",
        "        elif 'troot=' in tkn:\n",
        "            word = clean(tkn.split('=')[1])\n",
        "\n",
        "\n",
        "    if name_found == False:\n",
        "        pos_name = tokens[2]\n",
        "    return  af, pos_name , true_pos_name ,  dep_rel , head , leader , word \n",
        "\n",
        "\n",
        "def parse_root_chunk(chunk , id, file_name):\n",
        "    first_line = chunk[0]\n",
        "    af, pos_name , true_pos_name ,  dep_rel , head , leader , word  = parse_1st_line(first_line, file_name)\n",
        "    \n",
        "    chunk_list =[]\n",
        "    rest_lines = chunk[1:]\n",
        "    for one_line in rest_lines:\n",
        "        word2 , word_pos_tag = parse_normal_line(one_line, file_name)\n",
        "        if word2 == 'NULL':\n",
        "            local_word = word\n",
        "            if leader == 'NULL' :\n",
        "                leader = word\n",
        "        else : \n",
        "            local_word = word2\n",
        "        chunk_list.append([id , \n",
        "                          local_word , \n",
        "                          word_pos_tag ,\n",
        "                          af, \n",
        "                          pos_name , \n",
        "                          true_pos_name ,  \n",
        "                          dep_rel , \n",
        "                          head , \n",
        "                          leader ])\n",
        "    return chunk_list\n",
        "  \n",
        "\n",
        "def parse_normal_chunk(chunk , id, file_name):\n",
        "    first_line = chunk[0]\n",
        "    af, pos_name , true_pos_name ,  dep_rel , head , leader , word  = parse_1st_line(first_line, file_name)\n",
        "\n",
        "    chunk_list = []\n",
        "    rest_lines = chunk[1:]\n",
        "    for one_line in rest_lines:\n",
        "        word2 , word_pos_tag = parse_normal_line(one_line, file_name)\n",
        "        if word2 == 'NULL':\n",
        "            local_word = word\n",
        "            if leader == 'NULL' :\n",
        "                leader = word\n",
        "        else : \n",
        "            local_word = word2\n",
        "        chunk_list.append([id , \n",
        "                          local_word , \n",
        "                          word_pos_tag ,\n",
        "                          af, \n",
        "                          pos_name , \n",
        "                          true_pos_name ,  \n",
        "                          dep_rel , \n",
        "                          head , \n",
        "                          leader] )\n",
        "        \n",
        "    return chunk_list\n",
        "\n",
        "\n",
        "def troot_chunk(chunk):\n",
        "    global chunks_with_troot\n",
        "    if 'troot=' in chunk[0]:\n",
        "        chunks_with_troot.append(chunk)\n",
        "\n",
        "\n",
        "def chunk_parser(chunk, id, file_name) :\n",
        "    is_root = False\n",
        "    first_line = chunk[0]\n",
        "\n",
        "    if 'rel=' in first_line:\n",
        "        if \"rel=''\" in first_line :\n",
        "            chunk_list = parse_root_chunk(chunk , id, file_name)\n",
        "        else:\n",
        "            chunk_list = parse_normal_chunk(chunk , id, file_name)\n",
        "    else:\n",
        "        chunk_list = parse_root_chunk(chunk , id, file_name)\n",
        "        is_root = True\n",
        "    return chunk_list\n",
        "\n",
        "\n",
        "def sentence_parser(line):\n",
        "    tokens = line.split(' ')\n",
        "    variables = ''\n",
        "    for tkn in tokens:\n",
        "        if 'name' in tkn:\n",
        "            big_pos = clean(tkn.split('=')[1])\n",
        "        elif 'troot=' in tkn:\n",
        "            word = clean(tkn.split('=')[1])\n",
        "        elif 'drel=' in tkn or 'dmrel=' in tkn:\n",
        "            item = tkn.split('=')[1]\n",
        "            dep_rel , root = item.split(':')\n",
        "            dep_rel , root = clean(dep_rel) , clean(root)\n",
        "\n",
        "\n",
        "\n",
        "def document_parser(file, file_name, final_list):\n",
        "    # read file... usimg readlines such that len(file) = number of lines...\n",
        "    global sent_id\n",
        "    # global final_list\n",
        "    for idx in range(len(file)):\n",
        "        if '<Sentence' in file[idx]:\n",
        "            sent_id += 1\n",
        "        elif '</Sentence' in file[idx]:\n",
        "            continue\n",
        "        elif '((' in file[idx]:\n",
        "            chunk = []\n",
        "            while '))' not in file[idx]:\n",
        "                chunk.append(file[idx])\n",
        "                idx += 1\n",
        "            # troot_chunk(chunk)\n",
        "            chunk_list = chunk_parser(chunk , sent_id, file_name)\n",
        "            final_list.append(chunk_list)\n",
        "            \n"
      ],
      "execution_count": 3,
      "outputs": []
    },
    {
      "cell_type": "code",
      "metadata": {
        "id": "yCIwrZ-wHllx"
      },
      "source": [
        "def prepare_data1(folder_path) :\n",
        "    global sent_id, chunks_with_troot, error_list\n",
        "    final_list = list()\n",
        "    for dirpath, dirnames, files in os.walk(folder_path):\n",
        "        for file_name in files:\n",
        "            path = os.path.join(folder_path,file_name)\n",
        "            with open(path, \"r\") as fp :\n",
        "                lines = fp.read().splitlines()\n",
        "                document_parser(lines, file_name, final_list)\n",
        "\n",
        "    needed_list = list()\n",
        "    for lists in final_list:\n",
        "        for l in lists:\n",
        "            needed_list.append(l)\n",
        "    return needed_list        "
      ],
      "execution_count": 4,
      "outputs": []
    },
    {
      "cell_type": "code",
      "metadata": {
        "id": "crru1XSkK8Z-"
      },
      "source": [
        "cc = 0        \n",
        "\n",
        "def find_head_pos(chunk , head):\n",
        "    global cc , error_list\n",
        "    idx = 1\n",
        "\n",
        "    if head == '':\n",
        "        for word_line in chunk:\n",
        "            if head == word_line[7] and word_line[1] == word_line[8]   : #pos_name and local_word == leader i.e word_line[1] == word_line[8]  \n",
        "                return idx\n",
        "            idx += 1\n",
        "        \n",
        "    for word_line in chunk:\n",
        "        if head == word_line[4] and word_line[1] == word_line[8]   : #pos_name and local_word == leader i.e word_line[1] == word_line[8]  \n",
        "            return idx\n",
        "        idx += 1\n",
        "    cc += 1\n",
        "\n",
        "    error_list.add(chunk[0][0])\n",
        "    return -9999\n",
        "    \n",
        "\n",
        "def process_sentence(recv_chunk):\n",
        "    chunk = copy.deepcopy(recv_chunk)\n",
        "    for word_line in chunk:\n",
        "        word_line = word_line.append(-1)\n",
        "\n",
        "\n",
        "    for word_line in chunk:\n",
        "        if word_line[6] == '' and word_line[7] =='' and word_line[1] == word_line[8]  : #head and dep_rel field '' also  local_word == leader\n",
        "            word_line[9] = 0\n",
        "            word_line[6] = 'root'\n",
        "    len1 = len(chunk)\n",
        "    \n",
        "    for word_line in chunk:\n",
        "        head = word_line[7]\n",
        "        if word_line[9] == 0 : continue\n",
        "        head_pos = find_head_pos(chunk , head)\n",
        "        word_line[9] = head_pos\n",
        "    return chunk\n"
      ],
      "execution_count": 5,
      "outputs": []
    },
    {
      "cell_type": "code",
      "metadata": {
        "id": "nb5X1O6rQTDo"
      },
      "source": [
        "def prepare_data2(req_list) :\n",
        "    global error_list\n",
        "    new_idx = req_list[0][0]\n",
        "    temp_chunk = list()\n",
        "    ultimate_list = list()\n",
        "    \n",
        "    for line in req_list:\n",
        "        if line[0] == new_idx:\n",
        "            temp_chunk.append(line)\n",
        "        else:\n",
        "            ans = process_sentence(temp_chunk)\n",
        "            for a in ans :\n",
        "                ultimate_list.append(a)\n",
        "            new_idx = line[0]\n",
        "            temp_chunk = list()\n",
        "            temp_chunk.append(line)\n",
        "\n",
        "    ans = process_sentence(temp_chunk)\n",
        "    for a in ans :\n",
        "        ultimate_list.append(a)\n",
        "    temp_list = copy.deepcopy(ultimate_list)\n",
        "    ccc = 0\n",
        "    for i in temp_list :\n",
        "        if i[0] in error_list:\n",
        "            ccc += 1\n",
        "            ultimate_list.remove(i)\n",
        "    return ultimate_list"
      ],
      "execution_count": 6,
      "outputs": []
    },
    {
      "cell_type": "markdown",
      "metadata": {
        "id": "91WRrw23IQsf"
      },
      "source": [
        "### The information that are extracted from each sentence"
      ]
    },
    {
      "cell_type": "code",
      "metadata": {
        "id": "9fu1kDOmHhOn"
      },
      "source": [
        "# New structure :\n",
        "\n",
        "# id ,                  0\n",
        "# local_word ,          1\n",
        "# word_pos_tag ,        2\n",
        "# af,                   3\n",
        "# pos_name ,            4\n",
        "# true_pos_name ,       5\n",
        "# dep_rel ,             6\n",
        "# head ,                7\n",
        "# leader                8\n",
        "\n",
        "\n",
        "\n",
        "# head_line             9"
      ],
      "execution_count": 7,
      "outputs": []
    },
    {
      "cell_type": "markdown",
      "metadata": {
        "id": "EzY6MibgF8W5"
      },
      "source": [
        "### path for the dataset "
      ]
    },
    {
      "cell_type": "code",
      "metadata": {
        "id": "bowyzp5fOUMV"
      },
      "source": [
        "train_dir = '/content/train'  #folder with all the head files\n",
        "test_dir = '/content/test'"
      ],
      "execution_count": 8,
      "outputs": []
    },
    {
      "cell_type": "code",
      "metadata": {
        "id": "LpmVWBGwVbBw"
      },
      "source": [
        "temp_train = prepare_data1(train_dir)\n",
        "train_treebank = prepare_data2(temp_train)"
      ],
      "execution_count": 50,
      "outputs": []
    },
    {
      "cell_type": "markdown",
      "metadata": {
        "id": "PNNbWgUSIZ3a"
      },
      "source": [
        "### Total number of sentences in training dataset"
      ]
    },
    {
      "cell_type": "code",
      "metadata": {
        "colab": {
          "base_uri": "https://localhost:8080/"
        },
        "id": "T5AIvU1aZjj6",
        "outputId": "ac80471f-4879-4470-c7cf-51b39e0b7487"
      },
      "source": [
        "len(train_treebank)"
      ],
      "execution_count": 10,
      "outputs": [
        {
          "output_type": "execute_result",
          "data": {
            "text/plain": [
              "87014"
            ]
          },
          "metadata": {
            "tags": []
          },
          "execution_count": 10
        }
      ]
    },
    {
      "cell_type": "markdown",
      "metadata": {
        "id": "btzcxVnHKF4H"
      },
      "source": [
        "### Sample example from the training treebank after pre-processing"
      ]
    },
    {
      "cell_type": "code",
      "metadata": {
        "colab": {
          "base_uri": "https://localhost:8080/"
        },
        "id": "VRID8c-zJ675",
        "outputId": "e22d1c70-036e-4e09-88a6-02f8921497c0"
      },
      "source": [
        "train_treebank[10:13]"
      ],
      "execution_count": 11,
      "outputs": [
        {
          "output_type": "execute_result",
          "data": {
            "text/plain": [
              "[[1,\n",
              "  'ভরে',\n",
              "  'V__VM__VNF',\n",
              "  \"af='None'\",\n",
              "  'VGNF',\n",
              "  'VGNF',\n",
              "  'vmod',\n",
              "  'VGNN2',\n",
              "  'ভরে',\n",
              "  15],\n",
              " [1,\n",
              "  'আমাজনের',\n",
              "  'N__NNP',\n",
              "  \"af='None'\",\n",
              "  'NP5',\n",
              "  'NP',\n",
              "  'r6',\n",
              "  'NP6',\n",
              "  'আমাজনের',\n",
              "  13],\n",
              " [1,\n",
              "  'জলজঙ্গলে',\n",
              "  'N__NN',\n",
              "  \"af='None'\",\n",
              "  'NP6',\n",
              "  'NP',\n",
              "  'k7p',\n",
              "  'VGNN2',\n",
              "  'জলজঙ্গলে',\n",
              "  15]]"
            ]
          },
          "metadata": {
            "tags": []
          },
          "execution_count": 11
        }
      ]
    },
    {
      "cell_type": "code",
      "metadata": {
        "id": "7Kq0WsLbXe0p"
      },
      "source": [
        "temp_test = prepare_data1(test_dir)\n",
        "test_treebank = prepare_data2(temp_test)"
      ],
      "execution_count": 12,
      "outputs": []
    },
    {
      "cell_type": "markdown",
      "metadata": {
        "id": "syZ5ZK72IhRt"
      },
      "source": [
        "### Total number of sentences in testing dataset"
      ]
    },
    {
      "cell_type": "code",
      "metadata": {
        "colab": {
          "base_uri": "https://localhost:8080/"
        },
        "id": "wwCrOzA0Xlxa",
        "outputId": "55d68955-352b-4e32-85c4-5d93c0de31e1"
      },
      "source": [
        "len(test_treebank)"
      ],
      "execution_count": 13,
      "outputs": [
        {
          "output_type": "execute_result",
          "data": {
            "text/plain": [
              "11467"
            ]
          },
          "metadata": {
            "tags": []
          },
          "execution_count": 13
        }
      ]
    },
    {
      "cell_type": "markdown",
      "metadata": {
        "id": "NEqUvPDsKU-1"
      },
      "source": [
        "### Sample example from the testing treebank after pre-processing"
      ]
    },
    {
      "cell_type": "code",
      "metadata": {
        "colab": {
          "base_uri": "https://localhost:8080/"
        },
        "id": "EUqAdW86KYqN",
        "outputId": "13535913-e93c-440a-e1ca-d5723576ed4b"
      },
      "source": [
        "test_treebank[10:13]"
      ],
      "execution_count": 14,
      "outputs": [
        {
          "output_type": "execute_result",
          "data": {
            "text/plain": [
              "[[7205,\n",
              "  'মার্টিনা',\n",
              "  'N__NNP',\n",
              "  \"af='None'\",\n",
              "  'NP6',\n",
              "  'NP',\n",
              "  'k1',\n",
              "  'NULL__VGF',\n",
              "  'হিঙ্গিস',\n",
              "  17],\n",
              " [7205,\n",
              "  'হিঙ্গিস',\n",
              "  'N__NNP',\n",
              "  \"af='None'\",\n",
              "  'NP6',\n",
              "  'NP',\n",
              "  'k1',\n",
              "  'NULL__VGF',\n",
              "  'হিঙ্গিস',\n",
              "  17],\n",
              " [7205,\n",
              "  'অস্ট্রেলিয়ান',\n",
              "  'JJ',\n",
              "  \"af='None'\",\n",
              "  'NP7',\n",
              "  'NP',\n",
              "  'r6',\n",
              "  'NP8',\n",
              "  'ওপেনের',\n",
              "  15]]"
            ]
          },
          "metadata": {
            "tags": []
          },
          "execution_count": 14
        }
      ]
    },
    {
      "cell_type": "markdown",
      "metadata": {
        "id": "j0wl74WHUF5m"
      },
      "source": [
        "# Dependency Parser"
      ]
    },
    {
      "cell_type": "code",
      "metadata": {
        "id": "YtxpmKf_jv1p"
      },
      "source": [
        "# global data\n",
        "all_features = list()\n",
        "all_labels = list()"
      ],
      "execution_count": 15,
      "outputs": []
    },
    {
      "cell_type": "markdown",
      "metadata": {
        "id": "kmF6eyXeGWYG"
      },
      "source": [
        "## Check if a Tree is Connected or not"
      ]
    },
    {
      "cell_type": "code",
      "metadata": {
        "id": "peVEhiMoVc5j"
      },
      "source": [
        "def check_if_tree_is_connected(begin, dependent_head, token_heads ,line_tokens) :     \n",
        "    current = begin\n",
        "    while current is not 0:\n",
        "        current = token_heads[current]\n",
        "        if current == dependent_head:\n",
        "            return True\n",
        "    return False"
      ],
      "execution_count": 16,
      "outputs": []
    },
    {
      "cell_type": "markdown",
      "metadata": {
        "id": "FV8ssPYeGeVZ"
      },
      "source": [
        "## Check Provectivity"
      ]
    },
    {
      "cell_type": "code",
      "metadata": {
        "id": "2ve4BMCzVhSp"
      },
      "source": [
        "def check_projectivity(line_tokens) :\n",
        "    token_heads = defaultdict()\n",
        "    for fields in line_tokens:\n",
        "        token_id = fields[0]\n",
        "        token_head = fields[3]\n",
        "        \n",
        "        if token_heads.get(token_id) == None: # not seen before\n",
        "            token_heads[token_id] = token_head\n",
        "\n",
        "    for dependent in token_heads:\n",
        "        dependent_head = token_heads[dependent]\n",
        "        left = 1 + min(dependent_head,dependent)\n",
        "        right = max(dependent_head,dependent)\n",
        "        \n",
        "        for i in range(left,right):\n",
        "            if check_if_tree_is_connected(i, dependent_head, token_heads ,line_tokens) == False:\n",
        "                return False\n",
        "    return True"
      ],
      "execution_count": 17,
      "outputs": []
    },
    {
      "cell_type": "markdown",
      "metadata": {
        "id": "XoCCBllgGitL"
      },
      "source": [
        "## Checking conditions for selecting Arc"
      ]
    },
    {
      "cell_type": "code",
      "metadata": {
        "id": "Y3gqRyUAVp8B"
      },
      "source": [
        "def check_condition(buffer,stack,dependencies = {},condition=None):    \n",
        "    if(condition == '0'):\n",
        "        return len(buffer) is 0 and len(stack) is 1 and stack[0] == 0\n",
        "    \n",
        "    elif(condition == '1'):\n",
        "        return len(stack) < 2 and len(buffer) > 0 #stack has only root and items are still in buffer\n",
        "\n",
        "    elif(condition == '2'): #condition for left arc\n",
        "        stack_top = stack[-1]\n",
        "        stack_2nd = stack[-2]\n",
        "        \n",
        "        return dependencies.get(stack_top) is not None and (stack_top,stack_2nd) in dependencies[stack_top]\n",
        "    \n",
        "    elif(condition == '3'): #condition for right arc\n",
        "        stack_top = stack[-1]\n",
        "        stack_2nd = stack[-2]\n",
        "        \n",
        "        return dependencies.get(stack_2nd) is not None and (stack_2nd,stack_top) in dependencies[stack_2nd]\n",
        "        "
      ],
      "execution_count": 18,
      "outputs": []
    },
    {
      "cell_type": "markdown",
      "metadata": {
        "id": "Pot70k52Irmg"
      },
      "source": [
        "### Extracting Configuration States and Gold Transitions"
      ]
    },
    {
      "cell_type": "code",
      "metadata": {
        "id": "Wak6PTi4UDml"
      },
      "source": [
        "def tree_to_actions(buffer,stack,arcs,dependencies):\n",
        "    def perform_shift(buffer,stack,arcs,configuration_states,gold_transitions):\n",
        "            configuration_states.append((list(buffer), list(stack), list(arcs)))\n",
        "\n",
        "            gold_transitions.append(\"shift\")\n",
        "\n",
        "            stack.append(buffer.pop())\n",
        "    \n",
        "    def perform_arc(arc_label,buffer,stack,arcs,configuration_states,gold_transitions,arc_type):\n",
        "        configuration_states.append((list(buffer), list(stack), list(arcs)))\n",
        "        \n",
        "        action = f'{arc_type}_{arc_label}'\n",
        "        \n",
        "        gold_transitions.append(action)\n",
        "        \n",
        "        left = stack[-1]\n",
        "        right = stack[-2]\n",
        "        \n",
        "        if arc_type == 'left':\n",
        "            arcs.append((arc_label,left,right))\n",
        "            stack.pop(-2)\n",
        "            \n",
        "        elif arc_type == 'right':\n",
        "            arcs.append((arc_label,right,left))\n",
        "            stack.pop()\n",
        "    \n",
        "    configuration_states = list() #[(buf,stk,arc)...]\n",
        "    gold_transitions = list() #[shift or left_rel or right_rel] actions for each state\n",
        "    \n",
        "    seen_dependencies = defaultdict()\n",
        "    \n",
        "    while( len(buffer) >= 0 ):\n",
        "        if check_condition(buffer,stack,condition = '0'):\n",
        "            return configuration_states , gold_transitions\n",
        "        \n",
        "        if check_condition(buffer,stack,condition = '1'):\n",
        "            perform_shift(buffer,stack,arcs,configuration_states,gold_transitions)\n",
        "            continue\n",
        "            \n",
        "        stack_top = stack[-1]\n",
        "        stack_2nd = stack[-2]\n",
        "        \n",
        "        if check_condition(buffer,stack,dependencies,condition = '2'):\n",
        "            arc_label = dependencies[stack_top][(stack_top,stack_2nd)]\n",
        "            \n",
        "            perform_arc(arc_label, buffer,stack,arcs,\n",
        "                        configuration_states,gold_transitions,\n",
        "                        arc_type = 'left')\n",
        "            \n",
        "            seen_dependencies[stack_2nd] = 1\n",
        "            \n",
        "        elif check_condition(buffer,stack,dependencies,condition = '3'):\n",
        "            if ( dependencies.get(stack_top) is not None and any([child not in seen_dependencies for _,child in dependencies[stack_top]]) ):\n",
        "                \n",
        "                perform_shift(buffer,stack,arcs,configuration_states,gold_transitions)\n",
        "                \n",
        "            else:                 \n",
        "                arc_label = dependencies[stack_2nd][(stack_2nd,stack_top)]\n",
        "            \n",
        "                perform_arc(arc_label, buffer,stack,arcs,\n",
        "                        configuration_states,gold_transitions,\n",
        "                        arc_type = 'right')\n",
        "            \n",
        "                seen_dependencies[stack_top] = 1\n",
        "\n",
        "        else:\n",
        "            if len(buffer) > 0 :\n",
        "                perform_shift(buffer,stack,arcs,configuration_states,gold_transitions)\n",
        "            else :\n",
        "                return configuration_states , gold_transitions"
      ],
      "execution_count": 19,
      "outputs": []
    },
    {
      "cell_type": "code",
      "metadata": {
        "id": "aAFAGJFRWCtM"
      },
      "source": [
        "def extract_configs_transitions(line_tokens):    \n",
        "    stack,buffer,arcs = list(),list(),list()\n",
        "    dependencies = defaultdict(lambda: defaultdict())\n",
        "\n",
        "    stack.append(0) #add root\n",
        "    \n",
        "    for tokens in reversed(line_tokens):\n",
        "        tok_id,word,x_pos,head,dependecy_relation = tokens\n",
        "        head_tok_id = (head,tok_id)\n",
        "        dependencies[head][head_tok_id] = dependecy_relation\n",
        "        buffer.append(tok_id)\n",
        "        \n",
        "    return tree_to_actions(buffer,stack,arcs,dependencies)\n",
        "   "
      ],
      "execution_count": 20,
      "outputs": []
    },
    {
      "cell_type": "markdown",
      "metadata": {
        "id": "jxeebJdyGuJP"
      },
      "source": [
        "## Extract Features"
      ]
    },
    {
      "cell_type": "code",
      "metadata": {
        "id": "UhKn-qvHQXF2"
      },
      "source": [
        "def countLeftRight(labels) :\n",
        "    vl, vr = 0, 0\n",
        "    for label in labels :\n",
        "        if label.startswith('left') : vl += 1\n",
        "        elif label.startswith('right') : vr += 1\n",
        "    return vl, vr   "
      ],
      "execution_count": 21,
      "outputs": []
    },
    {
      "cell_type": "markdown",
      "metadata": {
        "id": "sh8wN28eUMwl"
      },
      "source": [
        "### Base line features"
      ]
    },
    {
      "cell_type": "code",
      "metadata": {
        "id": "cLcNY8isUBNj"
      },
      "source": [
        "def get_features_labels(current_configuration,current_transtion,tokens_dict,POS_tags):\n",
        "    def get_stack_features(idx,stack,tokens_dict,POS_tags):\n",
        "        if idx == 'top':\n",
        "            return tokens_dict[stack[-1]],POS_tags[stack[-1]]\n",
        "        elif idx == '2nd_top':\n",
        "            return tokens_dict[stack[-2]],POS_tags[stack[-2]]\n",
        "    \n",
        "    def get_buffer_features(buffer,tokens_dict,POS_tags):\n",
        "        return tokens_dict[buffer[-1]],POS_tags[buffer[-1]]    \n",
        "        \n",
        "    def get_two_word_features(tokens_dict,stack,POS_tags):\n",
        "        return tokens_dict[stack[-1]],POS_tags[stack[-1]],POS_tags[stack[-2]]\n",
        "\n",
        "\n",
        "    def insert_to_features(features,feat_i,feat_j):\n",
        "        features[feat_i] = 1\n",
        "        features[feat_j] = 1\n",
        "        \n",
        "        \n",
        "    \n",
        "    label = current_transtion\n",
        "    \n",
        "    buffer,stack,arcs = current_configuration\n",
        "    \n",
        "    features = defaultdict()\n",
        "    \n",
        "    if len(stack) > 0:\n",
        "        top_token,top_pos = get_stack_features('top',stack,tokens_dict,POS_tags)\n",
        "    \n",
        "        top_feature_1 = f'stack_top_{top_token}'\n",
        "        top_feature_2 = f'stack_pos_{top_pos}'\n",
        "        \n",
        "        insert_to_features(features,top_feature_1,top_feature_2)\n",
        "    \n",
        "    if len(stack) > 1:\n",
        "        top2nd_token,top2nd_pos = get_stack_features('2nd_top',stack,tokens_dict,POS_tags)\n",
        "    \n",
        "        top2nd_feature_4 = f'stack2nd_top_{top2nd_token}'\n",
        "        top2nd_feature_5 = f'stack2nd_pos_{top2nd_pos}'\n",
        "        \n",
        "        insert_to_features(features,top2nd_feature_4,top2nd_feature_5)\n",
        "        \n",
        "    if len(buffer) > 0:\n",
        "        buf_token,buf_pos = get_buffer_features(buffer,tokens_dict,POS_tags)\n",
        "    \n",
        "        buf_feature_7 = f'buffer_top_{buf_token}'\n",
        "        buf_feature_8 = f'buffer_pos_{buf_pos}'\n",
        "\n",
        "        insert_to_features(features,buf_feature_7,buf_feature_8)\n",
        "        \n",
        "    \n",
        "    return features,label    "
      ],
      "execution_count": null,
      "outputs": []
    },
    {
      "cell_type": "markdown",
      "metadata": {
        "id": "XlsKY9G4T9cl"
      },
      "source": [
        "### Baseline plus features"
      ]
    },
    {
      "cell_type": "code",
      "metadata": {
        "id": "NhsP-UdeU8GT"
      },
      "source": [
        " def get_features_labels(current_configuration,current_transtion,tokens_dict,POS_tags):\n",
        "    def get_stack_features(idx,stack,tokens_dict,POS_tags):\n",
        "        if idx == 'top':\n",
        "            return tokens_dict[stack[-1]],POS_tags[stack[-1]]\n",
        "        elif idx == '2nd_top':\n",
        "            return tokens_dict[stack[-2]],POS_tags[stack[-2]]\n",
        "    \n",
        "    def get_buffer_features(buffer,tokens_dict,POS_tags):\n",
        "        return tokens_dict[buffer[-1]],POS_tags[buffer[-1]]    \n",
        "        \n",
        "    def get_two_word_features(tokens_dict,stack,POS_tags):\n",
        "        return tokens_dict[stack[-1]],POS_tags[stack[-1]],POS_tags[stack[-2]]\n",
        "    \n",
        "    def insert_to_features(features,feat_i,feat_j,feat_k):\n",
        "        features[feat_i] = 1\n",
        "        features[feat_j] = 1\n",
        "        features[feat_k] = 1        \n",
        "        \n",
        "    \n",
        "    labels = current_transtion\n",
        "    \n",
        "    buffer,stack,arcs = current_configuration\n",
        "    \n",
        "    features = defaultdict()\n",
        "    \n",
        "    if len(stack) > 0:\n",
        "        top_token,top_pos = get_stack_features('top',stack,tokens_dict,POS_tags)\n",
        "    \n",
        "        top_feature_1 = f'stack_top_{top_token}'\n",
        "        top_feature_2 = f'stack_pos_{top_pos}'\n",
        "        top_feature_3 = f'stack_top_pos_{top_token}_{top_pos}'\n",
        "        \n",
        "        insert_to_features(features,top_feature_1,top_feature_2,top_feature_3)\n",
        "        # insert_to_features(features,top_feature_1,top_feature_2)\n",
        "    \n",
        "    if len(stack) > 1:\n",
        "        top2nd_token,top2nd_pos = get_stack_features('2nd_top',stack,tokens_dict,POS_tags)\n",
        "    \n",
        "        top2nd_feature_4 = f'stack2nd_top_{top2nd_token}'\n",
        "        top2nd_feature_5 = f'stack2nd_pos_{top2nd_pos}'\n",
        "        top2nd_feature_6 = f'stack2nd_top_pos_{top2nd_token}_{top2nd_pos}'\n",
        "        \n",
        "        insert_to_features(features,top2nd_feature_4,top2nd_feature_5,top2nd_feature_6)\n",
        "        \n",
        "        \n",
        "    if len(buffer) > 0:\n",
        "        buf_token,buf_pos = get_buffer_features(buffer,tokens_dict,POS_tags)\n",
        "    \n",
        "        buf_feature_7 = f'buffer_top_{buf_token}'\n",
        "        buf_feature_8 = f'buffer_pos_{buf_pos}'\n",
        "        buf_feature_9 = f'buffer_top_pos_{buf_token}_{buf_pos}'\n",
        "        \n",
        "        insert_to_features(features,buf_feature_7,buf_feature_8,buf_feature_9)\n",
        "        \n",
        "        \n",
        "    if len(stack) > 1 : \n",
        "        stack_top , pos_top , pos_2nd_top = get_two_word_features(tokens_dict,stack,POS_tags)\n",
        "        \n",
        "        two_word_feature_10 = f'stack_top_pos_top_pos_2ndtop_{stack_top}_{pos_top}_{pos_2nd_top}'\n",
        "        features[two_word_feature_10] = 1\n",
        "\n",
        "# baseline +\n",
        "\n",
        "    if len(labels) > 0 :\n",
        "        # valency\n",
        "        vl, vr = countLeftRight(labels)\n",
        "        if len(stack) > 0 and len(buffer) > 0 and ('shift' in labels[-1]) :\n",
        "        # if len(stack) > 0 and len(buffer) > 0 :\n",
        "            stack_top, stack_top_pos = tokens_dict[stack[-1]], POS_tags[stack[-1]]\n",
        "            buffer_top, buffer_top_pos = tokens_dict[buffer[-1]], POS_tags[buffer[-1]]\n",
        "            new_feature_1 = f'stack_top_valL_{stack_top}_{str(vl)}'\n",
        "            new_feature_2 = f'stack_pos_valL_{stack_top_pos}_{str(vl)}'\n",
        "            new_feature_3 = f'stack_top_valR_{stack_top}_{str(vr)}'\n",
        "            new_feature_4 = f'stack_pos_valR_{stack_top_pos}_{str(vr)}'\n",
        "            new_feature_5 = f'buffer_top_valL_{buffer_top}_{str(vl)}'\n",
        "            new_feature_6 = f'buffer_pos_valL_{buffer_top_pos}_{str(vl)}'\n",
        "            \n",
        "            features[new_feature_1] = 1\n",
        "            features[new_feature_2] = 1\n",
        "            features[new_feature_3] = 1\n",
        "            features[new_feature_4] = 1\n",
        "            features[new_feature_5] = 1\n",
        "            features[new_feature_6] = 1\n",
        "\n",
        "\n",
        "        # distance\n",
        "        if len(stack) > 0 and len(buffer) > 0 and ('left' in labels[-1] or 'right' in labels[-1]) : \n",
        "        # if len(stack) > 0 and len(buffer) > 0 : \n",
        "            stack_top, stack_top_pos = tokens_dict[stack[-1]], POS_tags[stack[-1]]\n",
        "            buffer_top, buffer_top_pos = tokens_dict[buffer[-1]], POS_tags[buffer[-1]]    \n",
        "            distance = abs(int(stack[-1]) - int(buffer[-1]))\n",
        "            new_feature_1 = f'stack_top_dis_{stack_top}_{str(distance)}'\n",
        "            new_feature_2 = f'stack_pos_dis_{stack_top_pos}_{str(distance)}'\n",
        "            new_feature_3 = f'buffer_top_dis_{buffer_top}_{str(distance)}'\n",
        "            new_feature_4 = f'buffer_pos_dis_{buffer_top_pos}_{str(distance)}'\n",
        "            new_feature_5 = f'stack_top_buffer_top_dis_{stack_top}_{buffer_top}_{str(distance)}'\n",
        "            new_feature_6 = f'stack_pos_buffer_pos_dis_{stack_top_pos}_{buffer_top_pos}_{str(distance)}'\n",
        "            features[new_feature_1] = 1\n",
        "            features[new_feature_2] = 1\n",
        "            features[new_feature_3] = 1\n",
        "            features[new_feature_4] = 1\n",
        "            features[new_feature_5] = 1\n",
        "            features[new_feature_6] = 1\n",
        "\n",
        "    if len(labels) > 0 :\n",
        "        return features,labels[-1]\n",
        "    else :\n",
        "        return features,labels"
      ],
      "execution_count": 22,
      "outputs": []
    },
    {
      "cell_type": "markdown",
      "metadata": {
        "id": "wf5xoK-vG1sI"
      },
      "source": [
        "## Build Oracles"
      ]
    },
    {
      "cell_type": "code",
      "metadata": {
        "id": "LfuaHPfGUDqW"
      },
      "source": [
        "def build_oracles(train_treebank):\n",
        "    global all_features, all_labels\n",
        "    current_tokens = []\n",
        "    tokens_dict = {}\n",
        "    POS_tags = {}\n",
        "    \n",
        "    tokens_dict[0]= 'root'\n",
        "    POS_tags[0]= 'root'\n",
        "\n",
        "    new_idx = train_treebank[0][0]\n",
        "    for current_line in tqdm(train_treebank):\n",
        "        if current_line[0] == new_idx:\n",
        "            tok_id,word,x_pos,head_id,dep_rel = current_line[0], current_line[1], current_line[2], current_line[-1], current_line[6] \n",
        "            current_tokens.append((tok_id,word,x_pos,head_id,dep_rel)) \n",
        "        else:\n",
        "            new_current_tokens = []\n",
        "            cnt_root = 0\n",
        "            for idx , line in enumerate(current_tokens):\n",
        "                temp = list(line)\n",
        "                temp[0] = idx + 1\n",
        "                new_current_tokens.append(tuple(temp))\n",
        "                if temp[-1] == 'root' :\n",
        "                    cnt_root += 1\n",
        "                tokens_dict[temp[0]] = temp[1]\n",
        "                POS_tags[temp[0]] = temp[2]\n",
        "            \n",
        "            if cnt_root == 1 and check_projectivity(new_current_tokens) == True: #if current tree is projective\n",
        "                configuration_state,gold_transitions = extract_configs_transitions(new_current_tokens)\n",
        "                print(configuration_state)\n",
        "                print(\"\\n\\n\")\n",
        "                print(gold_transitions)\n",
        "                print(\"\\n\\n\")\n",
        "                print(tokens_dict)\n",
        "                \n",
        "                for i in range(len(configuration_state)):\n",
        "                    features , labels = get_features_labels(configuration_state[i],gold_transitions[:i+1], tokens_dict, POS_tags)\n",
        "\n",
        "                    all_features.append(features)\n",
        "                    all_labels.append(labels)\n",
        "            \n",
        "            current_tokens = []\n",
        "            tokens_dict = {}\n",
        "            POS_tags = {}\n",
        "            \n",
        "            tokens_dict[0]= 'root'\n",
        "            POS_tags[0]= 'root'\n",
        "            new_idx = current_line[0]\n",
        "    \n",
        "            tok_id,word,x_pos,head_id,dep_rel = current_line[0], current_line[1], current_line[2], current_line[-1], current_line[6] \n",
        "            current_tokens.append((tok_id,word,x_pos,head_id,dep_rel))\n",
        "\n",
        "    new_current_tokens = []\n",
        "    cnt_root = 0\n",
        "    for idx , line in enumerate(current_tokens):\n",
        "        temp = list(line)\n",
        "        temp[0] = idx + 1\n",
        "        new_current_tokens.append(tuple(temp))\n",
        "        if temp[-1] == 'root' :\n",
        "            cnt_root += 1\n",
        "        tokens_dict[temp[0]] = temp[1]\n",
        "        POS_tags[temp[0]] = temp[2]\n",
        "    if cnt_root == 1 and check_projectivity(new_current_tokens) == True: #if current tree is projective\n",
        "        configuration_state,gold_transitions = extract_configs_transitions(new_current_tokens)\n",
        "        \n",
        "        for i in range(len(configuration_state)):\n",
        "            features , labels = get_features_labels(configuration_state[i],gold_transitions[:i+1], tokens_dict, POS_tags)\n",
        "\n",
        "            all_features.append(features)\n",
        "            all_labels.append(labels)\n",
        "\n",
        "    print('finished')\n"
      ],
      "execution_count": 45,
      "outputs": []
    },
    {
      "cell_type": "code",
      "metadata": {
        "colab": {
          "base_uri": "https://localhost:8080/",
          "height": 82,
          "referenced_widgets": [
            "a7391235f1e44959a6f402949602c33f",
            "8f05afd2c9bc49d5a17bb8664f925432",
            "6fd71f5d29f947e2adc9c22411841497",
            "a795d5fc945849bca9fa8d0b7fe9e8b5",
            "2e9c9b6ea2f04e018aea9adc5c244b35",
            "20f0064f6dc44d1081de46813500cc7c",
            "ca13703655504a3e9002237e7c327633",
            "e9af1a637c834dd3b8180f47f405d9cf"
          ]
        },
        "id": "M2VUuCjEUDjQ",
        "outputId": "1001967e-ceee-4172-9bd4-bd7a3b67ced9"
      },
      "source": [
        "build_oracles(train_treebank)"
      ],
      "execution_count": 24,
      "outputs": [
        {
          "output_type": "display_data",
          "data": {
            "application/vnd.jupyter.widget-view+json": {
              "model_id": "a7391235f1e44959a6f402949602c33f",
              "version_minor": 0,
              "version_major": 2
            },
            "text/plain": [
              "HBox(children=(FloatProgress(value=0.0, max=87014.0), HTML(value='')))"
            ]
          },
          "metadata": {
            "tags": []
          }
        },
        {
          "output_type": "stream",
          "text": [
            "\n",
            "finished\n"
          ],
          "name": "stdout"
        }
      ]
    },
    {
      "cell_type": "markdown",
      "metadata": {
        "id": "hIBSvo5vSfx7"
      },
      "source": [
        "### Sample output of Configuration state, Gold transitions, token dictionary"
      ]
    },
    {
      "cell_type": "code",
      "metadata": {
        "colab": {
          "base_uri": "https://localhost:8080/",
          "height": 855,
          "referenced_widgets": [
            "077c164e762642d0b46950db50e8181a",
            "1a370d760857451cb6bf16263a75c730",
            "e87e2e78e5e643c483f0474b0d1d0a00",
            "2b09a0dda4bb4f04bd5771f9382332e5",
            "40956d05ebcc4c9cae1b3c8246fe3254",
            "645b6ce5af984579b18c3e28480f83cc",
            "4ec39f7d55bc4784b17592fb8dc3e590",
            "cea3d37d26f14afe8a7d7f5e5efa883f"
          ]
        },
        "id": "H6u3M7n8Rvud",
        "outputId": "77572157-c688-46d9-d57d-803793263115"
      },
      "source": [
        "build_oracles(train_treebank[:100])"
      ],
      "execution_count": 54,
      "outputs": [
        {
          "output_type": "display_data",
          "data": {
            "application/vnd.jupyter.widget-view+json": {
              "model_id": "077c164e762642d0b46950db50e8181a",
              "version_minor": 0,
              "version_major": 2
            },
            "text/plain": [
              "HBox(children=(FloatProgress(value=0.0), HTML(value='')))"
            ]
          },
          "metadata": {
            "tags": []
          }
        },
        {
          "output_type": "stream",
          "text": [
            "[([5, 4, 3, 2, 1], [0], []), ([5, 4, 3, 2], [0, 1], []), ([5, 4, 3], [0, 1, 2], []), ([5, 4, 3], [0, 2], [('k1', 2, 1)]), ([5, 4], [0, 2, 3], [('k1', 2, 1)]), ([5, 4], [0, 2], [('k1', 2, 1), ('k7p', 2, 3)]), ([5], [0, 2, 4], [('k1', 2, 1), ('k7p', 2, 3)]), ([5], [0, 2], [('k1', 2, 1), ('k7p', 2, 3), ('k7p', 2, 4)]), ([], [0, 2, 5], [('k1', 2, 1), ('k7p', 2, 3), ('k7p', 2, 4)]), ([], [0, 2], [('k1', 2, 1), ('k7p', 2, 3), ('k7p', 2, 4), ('rsym', 2, 5)])]\n",
            "\n",
            "\n",
            "\n",
            "['shift', 'shift', 'left_k1', 'shift', 'right_k7p', 'shift', 'right_k7p', 'shift', 'right_rsym', 'right_root']\n",
            "\n",
            "\n",
            "\n",
            "{0: 'root', 1: 'তিনি', 2: 'ছিলেন', 3: 'ব্রাজিল', 4: 'সেনাবাহিনীতে', 5: '।'}\n",
            "[([6, 5, 4, 3, 2, 1], [0], []), ([6, 5, 4, 3, 2], [0, 1], []), ([6, 5, 4, 3], [0, 1, 2], []), ([6, 5, 4, 3], [0, 2], [('r6', 2, 1)]), ([6, 5, 4], [0, 2, 3], [('r6', 2, 1)]), ([6, 5], [0, 2, 3, 4], [('r6', 2, 1)]), ([6], [0, 2, 3, 4, 5], [('r6', 2, 1)]), ([6], [0, 2, 3, 5], [('r6', 2, 1), ('pof', 5, 4)]), ([6], [0, 2, 5], [('r6', 2, 1), ('pof', 5, 4), ('k2', 5, 3)]), ([6], [0, 5], [('r6', 2, 1), ('pof', 5, 4), ('k2', 5, 3), ('k1', 5, 2)]), ([], [0, 5, 6], [('r6', 2, 1), ('pof', 5, 4), ('k2', 5, 3), ('k1', 5, 2)]), ([], [0, 5], [('r6', 2, 1), ('pof', 5, 4), ('k2', 5, 3), ('k1', 5, 2), ('rsym', 5, 6)])]\n",
            "\n",
            "\n",
            "\n",
            "['shift', 'shift', 'left_r6', 'shift', 'shift', 'shift', 'left_pof', 'left_k2', 'left_k1', 'shift', 'right_rsym', 'right_root']\n",
            "\n",
            "\n",
            "\n",
            "{0: 'root', 1: 'ব্রাজিলের', 2: 'প্রকৃতি', 3: 'তাঁকে', 4: 'মুগ্ধ', 5: 'করে', 6: '।'}\n",
            "[([4, 3, 2, 1], [0], []), ([4, 3, 2], [0, 1], []), ([4, 3], [0, 1, 2], []), ([4], [0, 1, 2, 3], []), ([4], [0, 1, 3], [('k1', 3, 2)]), ([4], [0, 3], [('k1', 3, 2), ('k1', 3, 1)]), ([], [0, 3, 4], [('k1', 3, 2), ('k1', 3, 1)]), ([], [0, 3], [('k1', 3, 2), ('k1', 3, 1), ('rsym', 3, 4)])]\n",
            "\n",
            "\n",
            "\n",
            "['shift', 'shift', 'shift', 'left_k1', 'left_k1', 'shift', 'right_rsym', 'right_root']\n",
            "\n",
            "\n",
            "\n",
            "{0: 'root', 1: 'ব্যবসাও', 2: 'বটে', 3: 'ছিল', 4: '।'}\n",
            "[([5, 4, 3, 2, 1], [0], []), ([5, 4, 3, 2], [0, 1], []), ([5, 4, 3], [0, 1, 2], []), ([5, 4], [0, 1, 2, 3], []), ([5], [0, 1, 2, 3, 4], []), ([5], [0, 1, 2, 4], [('k7p', 4, 3)]), ([5], [0, 1, 4], [('k7p', 4, 3), ('k7p', 4, 2)]), ([5], [0, 4], [('k7p', 4, 3), ('k7p', 4, 2), ('k7t', 4, 1)]), ([], [0, 4, 5], [('k7p', 4, 3), ('k7p', 4, 2), ('k7t', 4, 1)]), ([], [0, 4], [('k7p', 4, 3), ('k7p', 4, 2), ('k7t', 4, 1), ('rsym', 4, 5)])]\n",
            "\n",
            "\n",
            "\n",
            "['shift', 'shift', 'shift', 'shift', 'left_k7p', 'left_k7p', 'left_k7t', 'shift', 'right_rsym', 'right_root']\n",
            "\n",
            "\n",
            "\n",
            "{0: 'root', 1: 'যথাসময়ে', 2: 'সাও', 3: 'পাওলো-তে', 4: 'নামলাম', 5: '।'}\n",
            "[([16, 15, 14, 13, 12, 11, 10, 9, 8, 7, 6, 5, 4, 3, 2, 1], [0], []), ([16, 15, 14, 13, 12, 11, 10, 9, 8, 7, 6, 5, 4, 3, 2], [0, 1], []), ([16, 15, 14, 13, 12, 11, 10, 9, 8, 7, 6, 5, 4, 3], [0, 1, 2], []), ([16, 15, 14, 13, 12, 11, 10, 9, 8, 7, 6, 5, 4, 3], [0, 2], [('r6', 2, 1)]), ([16, 15, 14, 13, 12, 11, 10, 9, 8, 7, 6, 5, 4], [0, 2, 3], [('r6', 2, 1)]), ([16, 15, 14, 13, 12, 11, 10, 9, 8, 7, 6, 5, 4], [0, 3], [('r6', 2, 1), ('k1', 3, 2)]), ([16, 15, 14, 13, 12, 11, 10, 9, 8, 7, 6, 5], [0, 3, 4], [('r6', 2, 1), ('k1', 3, 2)]), ([16, 15, 14, 13, 12, 11, 10, 9, 8, 7, 6, 5], [0, 3], [('r6', 2, 1), ('k1', 3, 2), ('k1s', 3, 4)]), ([16, 15, 14, 13, 12, 11, 10, 9, 8, 7, 6], [0, 3, 5], [('r6', 2, 1), ('k1', 3, 2), ('k1s', 3, 4)]), ([16, 15, 14, 13, 12, 11, 10, 9, 8, 7, 6], [0, 5], [('r6', 2, 1), ('k1', 3, 2), ('k1s', 3, 4), ('ccof', 5, 3)]), ([16, 15, 14, 13, 12, 11, 10, 9, 8, 7], [0, 5, 6], [('r6', 2, 1), ('k1', 3, 2), ('k1s', 3, 4), ('ccof', 5, 3)]), ([16, 15, 14, 13, 12, 11, 10, 9, 8], [0, 5, 6, 7], [('r6', 2, 1), ('k1', 3, 2), ('k1s', 3, 4), ('ccof', 5, 3)]), ([16, 15, 14, 13, 12, 11, 10, 9], [0, 5, 6, 7, 8], [('r6', 2, 1), ('k1', 3, 2), ('k1s', 3, 4), ('ccof', 5, 3)]), ([16, 15, 14, 13, 12, 11, 10, 9], [0, 5, 6, 8], [('r6', 2, 1), ('k1', 3, 2), ('k1s', 3, 4), ('ccof', 5, 3), ('k2', 8, 7)]), ([16, 15, 14, 13, 12, 11, 10, 9], [0, 5, 8], [('r6', 2, 1), ('k1', 3, 2), ('k1s', 3, 4), ('ccof', 5, 3), ('k2', 8, 7), ('k1', 8, 6)]), ([16, 15, 14, 13, 12, 11, 10], [0, 5, 8, 9], [('r6', 2, 1), ('k1', 3, 2), ('k1s', 3, 4), ('ccof', 5, 3), ('k2', 8, 7), ('k1', 8, 6)]), ([16, 15, 14, 13, 12, 11], [0, 5, 8, 9, 10], [('r6', 2, 1), ('k1', 3, 2), ('k1s', 3, 4), ('ccof', 5, 3), ('k2', 8, 7), ('k1', 8, 6)]), ([16, 15, 14, 13, 12], [0, 5, 8, 9, 10, 11], [('r6', 2, 1), ('k1', 3, 2), ('k1s', 3, 4), ('ccof', 5, 3), ('k2', 8, 7), ('k1', 8, 6)]), ([16, 15, 14, 13], [0, 5, 8, 9, 10, 11, 12], [('r6', 2, 1), ('k1', 3, 2), ('k1s', 3, 4), ('ccof', 5, 3), ('k2', 8, 7), ('k1', 8, 6)]), ([16, 15, 14], [0, 5, 8, 9, 10, 11, 12, 13], [('r6', 2, 1), ('k1', 3, 2), ('k1s', 3, 4), ('ccof', 5, 3), ('k2', 8, 7), ('k1', 8, 6)]), ([16, 15], [0, 5, 8, 9, 10, 11, 12, 13, 14], [('r6', 2, 1), ('k1', 3, 2), ('k1s', 3, 4), ('ccof', 5, 3), ('k2', 8, 7), ('k1', 8, 6)]), ([16], [0, 5, 8, 9, 10, 11, 12, 13, 14, 15], [('r6', 2, 1), ('k1', 3, 2), ('k1s', 3, 4), ('ccof', 5, 3), ('k2', 8, 7), ('k1', 8, 6)]), ([16], [0, 5, 8, 9, 10, 11, 12, 13, 15], [('r6', 2, 1), ('k1', 3, 2), ('k1s', 3, 4), ('ccof', 5, 3), ('k2', 8, 7), ('k1', 8, 6), ('k1', 15, 14)]), ([16], [0, 5, 8, 9, 10, 11, 12, 15], [('r6', 2, 1), ('k1', 3, 2), ('k1s', 3, 4), ('ccof', 5, 3), ('k2', 8, 7), ('k1', 8, 6), ('k1', 15, 14), ('k7p', 15, 13)]), ([16], [0, 5, 8, 9, 10, 11, 15], [('r6', 2, 1), ('k1', 3, 2), ('k1s', 3, 4), ('ccof', 5, 3), ('k2', 8, 7), ('k1', 8, 6), ('k1', 15, 14), ('k7p', 15, 13), ('k7p', 15, 12)]), ([16], [0, 5, 8, 9, 10, 15], [('r6', 2, 1), ('k1', 3, 2), ('k1s', 3, 4), ('ccof', 5, 3), ('k2', 8, 7), ('k1', 8, 6), ('k1', 15, 14), ('k7p', 15, 13), ('k7p', 15, 12), ('k7p', 15, 11)]), ([16], [0, 5, 8, 9, 15], [('r6', 2, 1), ('k1', 3, 2), ('k1s', 3, 4), ('ccof', 5, 3), ('k2', 8, 7), ('k1', 8, 6), ('k1', 15, 14), ('k7p', 15, 13), ('k7p', 15, 12), ('k7p', 15, 11), ('sent-adv', 15, 10)]), ([16], [0, 5, 8, 9], [('r6', 2, 1), ('k1', 3, 2), ('k1s', 3, 4), ('ccof', 5, 3), ('k2', 8, 7), ('k1', 8, 6), ('k1', 15, 14), ('k7p', 15, 13), ('k7p', 15, 12), ('k7p', 15, 11), ('sent-adv', 15, 10), ('ccof', 9, 15)]), ([16], [0, 5, 8], [('r6', 2, 1), ('k1', 3, 2), ('k1s', 3, 4), ('ccof', 5, 3), ('k2', 8, 7), ('k1', 8, 6), ('k1', 15, 14), ('k7p', 15, 13), ('k7p', 15, 12), ('k7p', 15, 11), ('sent-adv', 15, 10), ('ccof', 9, 15), ('ccof', 8, 9)]), ([16], [0, 5], [('r6', 2, 1), ('k1', 3, 2), ('k1s', 3, 4), ('ccof', 5, 3), ('k2', 8, 7), ('k1', 8, 6), ('k1', 15, 14), ('k7p', 15, 13), ('k7p', 15, 12), ('k7p', 15, 11), ('sent-adv', 15, 10), ('ccof', 9, 15), ('ccof', 8, 9), ('ccof', 5, 8)]), ([], [0, 5, 16], [('r6', 2, 1), ('k1', 3, 2), ('k1s', 3, 4), ('ccof', 5, 3), ('k2', 8, 7), ('k1', 8, 6), ('k1', 15, 14), ('k7p', 15, 13), ('k7p', 15, 12), ('k7p', 15, 11), ('sent-adv', 15, 10), ('ccof', 9, 15), ('ccof', 8, 9), ('ccof', 5, 8)]), ([], [0, 5], [('r6', 2, 1), ('k1', 3, 2), ('k1s', 3, 4), ('ccof', 5, 3), ('k2', 8, 7), ('k1', 8, 6), ('k1', 15, 14), ('k7p', 15, 13), ('k7p', 15, 12), ('k7p', 15, 11), ('sent-adv', 15, 10), ('ccof', 9, 15), ('ccof', 8, 9), ('ccof', 5, 8), ('rsym', 5, 16)])]\n",
            "\n",
            "\n",
            "\n",
            "['shift', 'shift', 'left_r6', 'shift', 'left_k1', 'shift', 'right_k1s', 'shift', 'left_ccof', 'shift', 'shift', 'shift', 'left_k2', 'left_k1', 'shift', 'shift', 'shift', 'shift', 'shift', 'shift', 'shift', 'left_k1', 'left_k7p', 'left_k7p', 'left_k7p', 'left_sent-adv', 'right_ccof', 'right_ccof', 'right_ccof', 'shift', 'right_rsym', 'right_root']\n",
            "\n",
            "\n",
            "\n",
            "{0: 'root', 1: 'ব্রাজিলের', 2: 'ভাষা', 3: 'হল', 4: 'পর্তুগিজ', 5: ',', 6: 'অনেকে', 7: 'স্প্যানিস', 8: 'জানেন', 9: ',', 10: 'শুধুমাত্র', 11: 'বড়', 12: 'বড়', 13: 'জায়গায়', 14: 'ইংরিজি', 15: 'চলে', 16: '।'}\n",
            "\n",
            "finished\n"
          ],
          "name": "stdout"
        }
      ]
    },
    {
      "cell_type": "markdown",
      "metadata": {
        "id": "DDnCw-5NKkw9"
      },
      "source": [
        "### Sample example of features"
      ]
    },
    {
      "cell_type": "code",
      "metadata": {
        "colab": {
          "base_uri": "https://localhost:8080/"
        },
        "id": "93lUFgODSjRS",
        "outputId": "bb4356f8-4954-4029-cba6-b6ccc7135914"
      },
      "source": [
        "all_features[10:13]"
      ],
      "execution_count": 25,
      "outputs": [
        {
          "output_type": "execute_result",
          "data": {
            "text/plain": [
              "[defaultdict(None,\n",
              "             {'buffer_pos_N__NNP': 1,\n",
              "              'buffer_pos_valL_N__NNP_0': 1,\n",
              "              'buffer_top_pos_ব্রাজিলের_N__NNP': 1,\n",
              "              'buffer_top_valL_ব্রাজিলের_0': 1,\n",
              "              'buffer_top_ব্রাজিলের': 1,\n",
              "              'stack_pos_root': 1,\n",
              "              'stack_pos_valL_root_0': 1,\n",
              "              'stack_pos_valR_root_0': 1,\n",
              "              'stack_top_pos_root_root': 1,\n",
              "              'stack_top_root': 1,\n",
              "              'stack_top_valL_root_0': 1,\n",
              "              'stack_top_valR_root_0': 1}),\n",
              " defaultdict(None,\n",
              "             {'buffer_pos_N__NN': 1,\n",
              "              'buffer_pos_valL_N__NN_0': 1,\n",
              "              'buffer_top_pos_প্রকৃতি_N__NN': 1,\n",
              "              'buffer_top_valL_প্রকৃতি_0': 1,\n",
              "              'buffer_top_প্রকৃতি': 1,\n",
              "              'stack2nd_pos_root': 1,\n",
              "              'stack2nd_top_pos_root_root': 1,\n",
              "              'stack2nd_top_root': 1,\n",
              "              'stack_pos_N__NNP': 1,\n",
              "              'stack_pos_valL_N__NNP_0': 1,\n",
              "              'stack_pos_valR_N__NNP_0': 1,\n",
              "              'stack_top_pos_top_pos_2ndtop_ব্রাজিলের_N__NNP_root': 1,\n",
              "              'stack_top_pos_ব্রাজিলের_N__NNP': 1,\n",
              "              'stack_top_valL_ব্রাজিলের_0': 1,\n",
              "              'stack_top_valR_ব্রাজিলের_0': 1,\n",
              "              'stack_top_ব্রাজিলের': 1}),\n",
              " defaultdict(None,\n",
              "             {'buffer_pos_PR__PRP': 1,\n",
              "              'buffer_pos_dis_PR__PRP_1': 1,\n",
              "              'buffer_top_dis_তাঁকে_1': 1,\n",
              "              'buffer_top_pos_তাঁকে_PR__PRP': 1,\n",
              "              'buffer_top_তাঁকে': 1,\n",
              "              'stack2nd_pos_N__NNP': 1,\n",
              "              'stack2nd_top_pos_ব্রাজিলের_N__NNP': 1,\n",
              "              'stack2nd_top_ব্রাজিলের': 1,\n",
              "              'stack_pos_N__NN': 1,\n",
              "              'stack_pos_buffer_pos_dis_N__NN_PR__PRP_1': 1,\n",
              "              'stack_pos_dis_N__NN_1': 1,\n",
              "              'stack_top_buffer_top_dis_প্রকৃতি_তাঁকে_1': 1,\n",
              "              'stack_top_dis_প্রকৃতি_1': 1,\n",
              "              'stack_top_pos_top_pos_2ndtop_প্রকৃতি_N__NN_N__NNP': 1,\n",
              "              'stack_top_pos_প্রকৃতি_N__NN': 1,\n",
              "              'stack_top_প্রকৃতি': 1})]"
            ]
          },
          "metadata": {
            "tags": []
          },
          "execution_count": 25
        }
      ]
    },
    {
      "cell_type": "markdown",
      "metadata": {
        "id": "R29Er-ldK29h"
      },
      "source": [
        "### Sample example of labels"
      ]
    },
    {
      "cell_type": "code",
      "metadata": {
        "colab": {
          "base_uri": "https://localhost:8080/"
        },
        "id": "XRvG6pi5KuMr",
        "outputId": "403de78d-3645-4175-f72b-c57f0c52a4ff"
      },
      "source": [
        "all_labels[10:20]"
      ],
      "execution_count": 26,
      "outputs": [
        {
          "output_type": "execute_result",
          "data": {
            "text/plain": [
              "['shift',\n",
              " 'shift',\n",
              " 'left_r6',\n",
              " 'shift',\n",
              " 'shift',\n",
              " 'shift',\n",
              " 'left_pof',\n",
              " 'left_k2',\n",
              " 'left_k1',\n",
              " 'shift']"
            ]
          },
          "metadata": {
            "tags": []
          },
          "execution_count": 26
        }
      ]
    },
    {
      "cell_type": "code",
      "metadata": {
        "id": "JbylkLqp0HtC"
      },
      "source": [
        "label_vocabulary = defaultdict()\n",
        "feature_vocabulary = defaultdict()\n",
        "reverse_features = list()\n",
        "reverse_labels = list()\n",
        "max_features = 0"
      ],
      "execution_count": 27,
      "outputs": []
    },
    {
      "cell_type": "code",
      "metadata": {
        "id": "u7mJdXexzggC"
      },
      "source": [
        "def create_reverse_mappings(label_id, feature_id):\n",
        "    global all_features, all_labels, label_vocabulary, feature_vocabulary, reverse_features, reverse_labels\n",
        "        \n",
        "    reverse_labels = [0] * label_id # empty array of number of labels\n",
        "    reverse_features = [0] * feature_id # empty array of number of features\n",
        "    \n",
        "    for feature in tqdm(feature_vocabulary):\n",
        "        reverse_features[feature_vocabulary[feature]] = feature\n",
        "    for label in tqdm(label_vocabulary):\n",
        "        reverse_labels[label_vocabulary[label]] = label\n"
      ],
      "execution_count": 28,
      "outputs": []
    },
    {
      "cell_type": "markdown",
      "metadata": {
        "id": "9Pg4934zG6OH"
      },
      "source": [
        "## Build Training Data "
      ]
    },
    {
      "cell_type": "code",
      "metadata": {
        "id": "a7IA92rZzclu"
      },
      "source": [
        "def convert_to_training_data():\n",
        "    global all_features, all_labels, label_vocabulary, feature_vocabulary, max_features\n",
        "    label_id = 0\n",
        "    feature_id = 0 \n",
        "    \n",
        "    feature_counts = defaultdict(int)\n",
        "    total_features = len(all_features)\n",
        "    \n",
        "    for i in tqdm(range(total_features)):\n",
        "        for feature in all_features[i]:\n",
        "            feature_counts[feature] += 1\n",
        "            \n",
        "        if label_vocabulary.get(all_labels[i]) is None:\n",
        "            label_vocabulary[all_labels[i]] = label_id\n",
        "            label_id += 1\n",
        "            \n",
        "    for feature in tqdm(feature_counts):\n",
        "        if feature_counts[ feature ] > 4 and feature_vocabulary.get(feature) is None:\n",
        "            feature_vocabulary[ feature ] = feature_id\n",
        "            feature_id += 1\n",
        "    \n",
        "    create_reverse_mappings(label_id,feature_id)\n",
        "    \n",
        "    max_features = feature_id\n",
        "    X_train = sparse.lil_matrix((total_features,feature_id))\n",
        "    y_train = list()\n",
        "    \n",
        "    for i in tqdm(range(total_features)):\n",
        "        for feature in all_features[i]:\n",
        "            if feature_vocabulary.get(feature) is not None:\n",
        "                f_count = feature_vocabulary[feature]\n",
        "                X_train[i,f_count] = 1\n",
        "            \n",
        "        y_train.append(label_vocabulary[all_labels[i]])\n",
        "    \n",
        "    return X_train, y_train\n"
      ],
      "execution_count": 29,
      "outputs": []
    },
    {
      "cell_type": "code",
      "metadata": {
        "colab": {
          "base_uri": "https://localhost:8080/",
          "height": 260,
          "referenced_widgets": [
            "3a7deae125ac4f5a8ce659bb19658122",
            "78da56c7d3c04279a43d5b97fa7c3b23",
            "58a2b1f507484abbbe910a7f470be485",
            "bdad13ccb7b5466290c70d5cfe005f06",
            "a92b96f335e840508589698c9aaf9825",
            "53091a8313cc45809c698e6354cecfc4",
            "c0060339414647aeb65ce8ca0993281a",
            "5300bf03fc944b8796d68105dda566fd",
            "e0a61573abc0423db9794dbcd3b1426b",
            "71c1e7c263d14b99b2d100964a13483c",
            "f92905b46f464becb214cd5eca28e707",
            "4ca735123d8e4587a52154fa71a16dae",
            "67682e71378c4119bd67b9360067ce23",
            "9b0a75fb4088410197421452123020b3",
            "c5717dd048a348d3af1f4322c0dd151d",
            "28bd19981f754fceaaca2afcb7a47568",
            "737e3fe2941946d0a214ce18dc2cc377",
            "f886d4fdedd047f291255fc7472e72f3",
            "225ede7dcc57499ebf493c2e85c9c2b4",
            "f595c49c91994402b09fff8905c3b4c3",
            "c80837bc15884448997abe7cf97a34fa",
            "895c821f5ebb42a6adc893446087e36c",
            "2351e234b13b4fd587f5c4ee189b53bc",
            "a6f10b6c1a6c473883d7c7ca0ef4c8d3",
            "9f3f14363ce44171970282b638f45121",
            "5e500832298e4489bb1a43585ed75adf",
            "15281cf842be4060a186ba9bff77feea",
            "0adf21691c554272ba53c0e2022e94b6",
            "506960881c404a029fd14854fdfdc165",
            "ced6e2a6ea174fa895b41b3fd612f145",
            "698bf0a2ff4342bbaa541bc0d21dced3",
            "73db9441ec9c4db59ff622565a8d1ff7",
            "40c72e001b1d41949baa7d4074e34b35",
            "f6a844d1811e41478babe1fe1537ebd9",
            "53ed8838b83847cda1149ad93816fb49",
            "83f57dcd3269430da074b8507335b69a",
            "3c9c7ede5fea427e9ee01f0d697744cb",
            "12de863764ca4a369049bb6b6a81d59b",
            "ff66af3395884eecb8de6055b8f417eb",
            "2c71a53c94a74414ad9bfc3bbf027ebb"
          ]
        },
        "id": "ivrDbfeVUDbB",
        "outputId": "2f51a498-a916-4a8d-ff2b-a9047c98828d"
      },
      "source": [
        "X_train, y_train = convert_to_training_data()"
      ],
      "execution_count": 30,
      "outputs": [
        {
          "output_type": "display_data",
          "data": {
            "application/vnd.jupyter.widget-view+json": {
              "model_id": "3a7deae125ac4f5a8ce659bb19658122",
              "version_minor": 0,
              "version_major": 2
            },
            "text/plain": [
              "HBox(children=(FloatProgress(value=0.0, max=85097.0), HTML(value='')))"
            ]
          },
          "metadata": {
            "tags": []
          }
        },
        {
          "output_type": "stream",
          "text": [
            "\n"
          ],
          "name": "stdout"
        },
        {
          "output_type": "display_data",
          "data": {
            "application/vnd.jupyter.widget-view+json": {
              "model_id": "e0a61573abc0423db9794dbcd3b1426b",
              "version_minor": 0,
              "version_major": 2
            },
            "text/plain": [
              "HBox(children=(FloatProgress(value=0.0, max=169302.0), HTML(value='')))"
            ]
          },
          "metadata": {
            "tags": []
          }
        },
        {
          "output_type": "stream",
          "text": [
            "\n"
          ],
          "name": "stdout"
        },
        {
          "output_type": "display_data",
          "data": {
            "application/vnd.jupyter.widget-view+json": {
              "model_id": "737e3fe2941946d0a214ce18dc2cc377",
              "version_minor": 0,
              "version_major": 2
            },
            "text/plain": [
              "HBox(children=(FloatProgress(value=0.0, max=24185.0), HTML(value='')))"
            ]
          },
          "metadata": {
            "tags": []
          }
        },
        {
          "output_type": "stream",
          "text": [
            "\n"
          ],
          "name": "stdout"
        },
        {
          "output_type": "display_data",
          "data": {
            "application/vnd.jupyter.widget-view+json": {
              "model_id": "9f3f14363ce44171970282b638f45121",
              "version_minor": 0,
              "version_major": 2
            },
            "text/plain": [
              "HBox(children=(FloatProgress(value=0.0, max=95.0), HTML(value='')))"
            ]
          },
          "metadata": {
            "tags": []
          }
        },
        {
          "output_type": "stream",
          "text": [
            "\n"
          ],
          "name": "stdout"
        },
        {
          "output_type": "display_data",
          "data": {
            "application/vnd.jupyter.widget-view+json": {
              "model_id": "40c72e001b1d41949baa7d4074e34b35",
              "version_minor": 0,
              "version_major": 2
            },
            "text/plain": [
              "HBox(children=(FloatProgress(value=0.0, max=85097.0), HTML(value='')))"
            ]
          },
          "metadata": {
            "tags": []
          }
        },
        {
          "output_type": "stream",
          "text": [
            "\n"
          ],
          "name": "stdout"
        }
      ]
    },
    {
      "cell_type": "code",
      "metadata": {
        "colab": {
          "base_uri": "https://localhost:8080/"
        },
        "id": "OdBJSHi2LGs2",
        "outputId": "8580a1b2-2a59-4bdd-82f7-2485364330e9"
      },
      "source": [
        "X_train.shape"
      ],
      "execution_count": 31,
      "outputs": [
        {
          "output_type": "execute_result",
          "data": {
            "text/plain": [
              "(85097, 24185)"
            ]
          },
          "metadata": {
            "tags": []
          },
          "execution_count": 31
        }
      ]
    },
    {
      "cell_type": "code",
      "metadata": {
        "colab": {
          "base_uri": "https://localhost:8080/"
        },
        "id": "cyjjj7mFLK-e",
        "outputId": "028d5b7b-daa1-4507-e518-131101177aba"
      },
      "source": [
        "len(y_train)"
      ],
      "execution_count": 32,
      "outputs": [
        {
          "output_type": "execute_result",
          "data": {
            "text/plain": [
              "85097"
            ]
          },
          "metadata": {
            "tags": []
          },
          "execution_count": 32
        }
      ]
    },
    {
      "cell_type": "code",
      "metadata": {
        "id": "_uSCy--65q_s"
      },
      "source": [
        "from sklearn.svm import SVC\n",
        "from sklearn.linear_model import SGDClassifier\n",
        "from sklearn.linear_model import LogisticRegression\n",
        "from sklearn.linear_model import PassiveAggressiveClassifier\n",
        "\n",
        "from sklearn.ensemble import RandomForestClassifier\n",
        "from sklearn.naive_bayes import GaussianNB,BernoulliNB\n",
        "\n",
        "from sklearn.model_selection import GridSearchCV\n",
        "from sklearn import model_selection"
      ],
      "execution_count": 33,
      "outputs": []
    },
    {
      "cell_type": "markdown",
      "metadata": {
        "id": "Vdw5Vr7nHJNZ"
      },
      "source": [
        "## Select Model"
      ]
    },
    {
      "cell_type": "code",
      "metadata": {
        "id": "slzJvQ8J3cZ8"
      },
      "source": [
        "def get_model(model_name):\n",
        "    model = None\n",
        "    if model_name == 'lr_l2':\n",
        "        model = LogisticRegression(verbose = 2,n_jobs = 4)\n",
        "    \n",
        "    elif model_name == 'lr_el':\n",
        "        model = LogisticRegression(penalty = 'l2',verbose = 2,n_jobs = 4)\n",
        "\n",
        "    elif model_name == 'svm_rbf':\n",
        "        model = SVC(kernel = 'rbf', C=1.6, probability=True)\n",
        "    \n",
        "    elif model_name == 'svm_poly':\n",
        "        model = SVC(kernel = 'poly', C=1.5, probability=True)\n",
        "    \n",
        "    elif model_name == 'bnb':\n",
        "        model = BernoulliNB()\n",
        "        \n",
        "    return model"
      ],
      "execution_count": 34,
      "outputs": []
    },
    {
      "cell_type": "markdown",
      "metadata": {
        "id": "63Ohf744HTQC"
      },
      "source": [
        "## Fitting the data in the Model"
      ]
    },
    {
      "cell_type": "code",
      "metadata": {
        "id": "S8zs2Y-46To4"
      },
      "source": [
        "import pickle\n",
        "\n",
        "# filename = 'finalized_model.sav'\n",
        "# pickle.dump(model, open(filename, 'wb'))\n",
        " \n",
        "# # some time later...\n",
        " \n",
        "# # load the model from disk\n",
        "# loaded_model = pickle.load(open(filename, 'rb'))\n",
        "# result = loaded_model.score(X_test, Y_test)\n",
        "# print(result)\n"
      ],
      "execution_count": 35,
      "outputs": []
    },
    {
      "cell_type": "markdown",
      "metadata": {
        "id": "O9RwoRUnMYNf"
      },
      "source": [
        "### path to save the trained model"
      ]
    },
    {
      "cell_type": "code",
      "metadata": {
        "id": "ptoyV6_V6i0t"
      },
      "source": [
        "model_path = '/content/models/'"
      ],
      "execution_count": 36,
      "outputs": []
    },
    {
      "cell_type": "code",
      "metadata": {
        "id": "vCIOkKEz3nsb"
      },
      "source": [
        "def train(X_train, y_train, model_name = None):\n",
        "    model = get_model(model_name)\n",
        "    model.fit(X_train, y_train)\n",
        "    # filename = model_path + model_name + '.sav'\n",
        "    # pickle.dump(model, open(filename, 'wb'))\n",
        "    return model"
      ],
      "execution_count": 37,
      "outputs": []
    },
    {
      "cell_type": "markdown",
      "metadata": {
        "id": "3I1Q7sjUMh_q"
      },
      "source": [
        "### Training the selected model"
      ]
    },
    {
      "cell_type": "code",
      "metadata": {
        "colab": {
          "base_uri": "https://localhost:8080/"
        },
        "id": "DqfaczNI5EjS",
        "outputId": "50d41582-5920-4caa-af17-8f8c710c23ac"
      },
      "source": [
        "trained_model = train(X_train, y_train, 'lr_l2')"
      ],
      "execution_count": 38,
      "outputs": [
        {
          "output_type": "stream",
          "text": [
            "[Parallel(n_jobs=4)]: Using backend LokyBackend with 4 concurrent workers.\n",
            "[Parallel(n_jobs=4)]: Done   1 out of   1 | elapsed:  1.7min finished\n"
          ],
          "name": "stderr"
        }
      ]
    },
    {
      "cell_type": "code",
      "metadata": {
        "id": "LQkLw3sR33W1"
      },
      "source": [
        "def action_to_tree(test_dependency_tree,prediction_probabs,test_buffer,test_stack,test_arcs,current_transitions):\n",
        "\n",
        "    global reverse_labels\n",
        "        \n",
        "    def is_action_valid(test_stack,test_buffer,action_taken):\n",
        "        if action_taken == \"shift\" and len(test_buffer) > 0 :\n",
        "            return True\n",
        "        \n",
        "        elif action_taken.startswith('left') and len(test_stack) > 1 and test_stack[-1] != 0: #0 is root\n",
        "            return True \n",
        "        \n",
        "        elif action_taken.startswith('right') and len(test_stack) > 1 and test_stack[-2] != 0: #0 is root\n",
        "            return True \n",
        "        \n",
        "        else:\n",
        "            return False\n",
        "        \n",
        "        \n",
        "    for label_id_prob in np.argsort(prediction_probabs, kind = 'quicksort')[0]:\n",
        "        \n",
        "        action_taken = reverse_labels[label_id_prob]\n",
        "        \n",
        "        if is_action_valid(test_stack,test_buffer,action_taken):\n",
        "            current_transitions.append(action_taken)\n",
        "            if action_taken == \"shift\":\n",
        "                test_stack.append(test_buffer.pop())\n",
        "            \n",
        "            elif action_taken.startswith('left'):\n",
        "                arc_label = action_taken.split('_')[1]\n",
        "                test_dependency_tree[test_stack[-2]] = (test_stack[-1], arc_label)\n",
        "                test_stack.pop(-2)\n",
        "                \n",
        "            elif action_taken.startswith('right'):\n",
        "                arc_label = action_taken.split('_')[1]\n",
        "                test_dependency_tree[test_stack[-1]] = (test_stack[-2], arc_label)\n",
        "                test_stack.pop()\n",
        "            return\n"
      ],
      "execution_count": 39,
      "outputs": []
    },
    {
      "cell_type": "markdown",
      "metadata": {
        "id": "0LUkU-AZHaBJ"
      },
      "source": [
        "## Evaluate and Prediction"
      ]
    },
    {
      "cell_type": "code",
      "metadata": {
        "id": "xLCVYFKC4Cry"
      },
      "source": [
        "def evaluate_oracles_and_predictions(test_tokens, model):\n",
        "    \n",
        "    global feature_vocabulary, max_features\n",
        "\n",
        "    test_tokens_dict = defaultdict()\n",
        "    test_POS_tags = defaultdict()\n",
        "    \n",
        "    test_tokens_dict[0] = 'root'\n",
        "    test_POS_tags[0] = 'root'\n",
        "    \n",
        "    test_heads = defaultdict()\n",
        "    test_labels = defaultdict()\n",
        "    \n",
        "    test_buffer = list()\n",
        "    \n",
        "    test_stack = list()\n",
        "    test_stack.append(0)\n",
        "    \n",
        "    test_arcs = list()\n",
        "    \n",
        "    for test_token in reversed(test_tokens):\n",
        "        token_id,token_word,token_tag,token_head,token_label = test_token\n",
        "        \n",
        "        test_tokens_dict[token_id] = token_word\n",
        "        test_POS_tags[token_id] = token_tag\n",
        "        \n",
        "        test_heads[token_id] = token_head\n",
        "        test_labels[token_id] = token_label\n",
        "        \n",
        "        test_buffer.append(token_id)\n",
        "        \n",
        "    test_dependency_tree = defaultdict()\n",
        "    current_transitions = list()\n",
        "    \n",
        "    while len(test_buffer) > 0:\n",
        "        \n",
        "        if len(test_buffer) == 0  and len(test_stack)==0 : #nothing available to perform an action\n",
        "            break\n",
        "            \n",
        "        if len(test_buffer) == 0  and len(test_stack)==1 and test_stack[0] == 0 : #nothing but root\n",
        "            break\n",
        "        \n",
        "        current_config = (test_buffer,test_stack,test_arcs)\n",
        "        \n",
        "        test_features, _ = get_features_labels(current_config,current_transitions,test_tokens_dict,test_POS_tags)\n",
        "        \n",
        "        x_test = sparse.lil_matrix((1, max_features))\n",
        "        \n",
        "        for feature in test_features:\n",
        "            if feature_vocabulary.get(feature) is not None:\n",
        "                x_test[0, feature_vocabulary[feature]] = 1\n",
        "                \n",
        "        prediction_probabs = -1 * model.predict_proba(x_test)\n",
        "        \n",
        "        action_to_tree(test_dependency_tree,prediction_probabs,test_buffer,test_stack,test_arcs,current_transitions)\n",
        "        \n",
        "    unlabelled_attachment_score = 0\n",
        "    labelled_attachment_score = 0\n",
        "    total_children = 0\n",
        "        \n",
        "    for child in test_dependency_tree:\n",
        "        token_head,arc_label = test_dependency_tree[child]\n",
        "        if token_head == test_heads[child]:\n",
        "            unlabelled_attachment_score += 1\n",
        "            if arc_label == test_labels[child]:\n",
        "                labelled_attachment_score += 1\n",
        "        total_children += 1\n",
        "            \n",
        "    return [unlabelled_attachment_score,labelled_attachment_score,total_children]\n"
      ],
      "execution_count": 40,
      "outputs": []
    },
    {
      "cell_type": "code",
      "metadata": {
        "id": "QrJOGWQRUDXt"
      },
      "source": [
        "gg = 0\n",
        "def evaluate(test_treebank, model):\n",
        "    global gg\n",
        "    test_tokens = [] #tokens in current line\n",
        "    current_all_scores = []\n",
        "    total_scores = np.zeros(3)\n",
        "    \n",
        "    new_idx = test_treebank[0][0]\n",
        "    for current_line in tqdm(test_treebank):\n",
        "        if current_line[0] == new_idx:\n",
        "            tok_id,word,x_pos,head_id,dep_rel = current_line[0], current_line[1], current_line[2], current_line[-1], current_line[6] \n",
        "            test_tokens.append((tok_id,word,x_pos,head_id,dep_rel))\n",
        "        else:\n",
        "            new_test_tokens = []\n",
        "            cnt_root = 0\n",
        "            for idx , line in enumerate(test_tokens):\n",
        "                temp = list(line)\n",
        "                temp[0] = idx + 1\n",
        "                new_test_tokens.append(tuple(temp))\n",
        "                if temp[-1] == 'root' :\n",
        "                    cnt_root += 1\n",
        "            \n",
        "            \n",
        "            if cnt_root == 1 and check_projectivity(new_test_tokens) == True: #if current tree is projective\n",
        "                gg += 1\n",
        "                current_all_scores = evaluate_oracles_and_predictions(new_test_tokens,model)\n",
        "                total_scores += current_all_scores\n",
        "\n",
        "            test_tokens = []\n",
        "            new_idx = current_line[0]\n",
        "            tok_id,word,x_pos,head_id,dep_rel = current_line[0], current_line[1], current_line[2], current_line[-1], current_line[6] \n",
        "            test_tokens.append((tok_id,word,x_pos,head_id,dep_rel))\n",
        "\n",
        "    new_test_tokens = []\n",
        "    cnt_root = 0\n",
        "    for idx , line in enumerate(test_tokens):\n",
        "        temp = list(line)\n",
        "        temp[0] = idx + 1\n",
        "        new_test_tokens.append(tuple(temp))\n",
        "        if temp[-1] == 'root' :\n",
        "            cnt_root += 1\n",
        "    if cnt_root == 1 and check_projectivity(new_test_tokens) == True: #if current tree is projective\n",
        "        gg += 1\n",
        "        current_all_scores = evaluate_oracles_and_predictions(new_test_tokens,model)\n",
        "        total_scores += current_all_scores\n",
        "        \n",
        "\n",
        "    accuracy = f'Unlabelled attachment Score {total_scores[0]/total_scores[2]} Labelled attachment Score {total_scores[1]/total_scores[2]}'\n",
        "    \n",
        "    return accuracy, total_scores"
      ],
      "execution_count": 41,
      "outputs": []
    },
    {
      "cell_type": "code",
      "metadata": {
        "id": "j6BfHfhOUDVI",
        "colab": {
          "base_uri": "https://localhost:8080/",
          "height": 65,
          "referenced_widgets": [
            "01b31fe66ba642a295beb984ca4f3a5f",
            "a86956790de8448d9f435c2d350b89cc",
            "cf40a573f3ea4aff9d656914cdbc8c05",
            "63dc0cbd8c134f24873a7ed534a1f07f",
            "04f7e7bfe0c04c7ca714fb04e9c7747c",
            "c029f7acf1d54343b20125a0de91902a",
            "65acb405e4af4494a0fecf2c06f99a22",
            "9579258f569445728997293f1bd6a323"
          ]
        },
        "outputId": "b54a4bb2-20d1-425e-a1fe-e41936176080"
      },
      "source": [
        "accuracy, total_scores = evaluate(test_treebank, trained_model)"
      ],
      "execution_count": 42,
      "outputs": [
        {
          "output_type": "display_data",
          "data": {
            "application/vnd.jupyter.widget-view+json": {
              "model_id": "01b31fe66ba642a295beb984ca4f3a5f",
              "version_minor": 0,
              "version_major": 2
            },
            "text/plain": [
              "HBox(children=(FloatProgress(value=0.0, max=11467.0), HTML(value='')))"
            ]
          },
          "metadata": {
            "tags": []
          }
        },
        {
          "output_type": "stream",
          "text": [
            "\n"
          ],
          "name": "stdout"
        }
      ]
    },
    {
      "cell_type": "code",
      "metadata": {
        "id": "qY-_59VEUDSF",
        "colab": {
          "base_uri": "https://localhost:8080/",
          "height": 35
        },
        "outputId": "6fd18017-2750-4c31-88d1-5f5fffb02b32"
      },
      "source": [
        "accuracy"
      ],
      "execution_count": 43,
      "outputs": [
        {
          "output_type": "execute_result",
          "data": {
            "application/vnd.google.colaboratory.intrinsic+json": {
              "type": "string"
            },
            "text/plain": [
              "'Unlabelled attachment Score 0.8421052631578947 Labelled attachment Score 0.631578947368421'"
            ]
          },
          "metadata": {
            "tags": []
          },
          "execution_count": 43
        }
      ]
    },
    {
      "cell_type": "code",
      "metadata": {
        "id": "3T3xZyo-MsPQ"
      },
      "source": [
        ""
      ],
      "execution_count": 43,
      "outputs": []
    }
  ]
}